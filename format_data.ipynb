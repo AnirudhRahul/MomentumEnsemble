{
 "cells": [
  {
   "cell_type": "code",
   "execution_count": 183,
   "id": "3bc1dc63",
   "metadata": {},
   "outputs": [],
   "source": [
    "import pandas as pd\n",
    "import pandas_ta as ta\n",
    "from dateutil import parser\n",
    "from datetime import datetime, timedelta, timezone, tzinfo\n",
    "import matplotlib.pyplot as plt\n",
    "import numpy as np\n",
    "from keras.models import Sequential\n",
    "from keras.layers import Dense\n",
    "from keras.layers import LSTM"
   ]
  },
  {
   "cell_type": "code",
   "execution_count": 184,
   "id": "1e42b879",
   "metadata": {},
   "outputs": [],
   "source": [
    "stock_data = pd.read_csv('./4816.T.csv')"
   ]
  },
  {
   "cell_type": "code",
   "execution_count": 185,
   "id": "7e9295ef",
   "metadata": {},
   "outputs": [
    {
     "name": "stdout",
     "output_type": "stream",
     "text": [
      "<class 'pandas.core.frame.DataFrame'>\n",
      "RangeIndex: 5417 entries, 0 to 5416\n",
      "Data columns (total 8 columns):\n",
      " #   Column     Non-Null Count  Dtype  \n",
      "---  ------     --------------  -----  \n",
      " 0   Date       5417 non-null   object \n",
      " 1   Open       5417 non-null   float64\n",
      " 2   High       5417 non-null   float64\n",
      " 3   Low        5417 non-null   float64\n",
      " 4   Close      5417 non-null   float64\n",
      " 5   Adj Close  5417 non-null   float64\n",
      " 6   Volume     5417 non-null   int64  \n",
      " 7   timestamp  5417 non-null   int64  \n",
      "dtypes: float64(5), int64(2), object(1)\n",
      "memory usage: 338.7+ KB\n"
     ]
    },
    {
     "data": {
      "text/plain": [
       "<AxesSubplot:xlabel='timestamp'>"
      ]
     },
     "execution_count": 185,
     "metadata": {},
     "output_type": "execute_result"
    },
    {
     "data": {
      "image/png": "[encoded data removed]",
      "text/plain": [
       "<Figure size 432x288 with 1 Axes>"
      ]
     },
     "metadata": {
      "needs_background": "light"
     },
     "output_type": "display_data"
    }
   ],
   "source": [
    "def formatJST(day):\n",
    "    dt = parser.parse(day + \" 15:00 JST\", tzinfos={\"JST\":9*3600})\n",
    "    return int(datetime.timestamp(dt))\n",
    "\n",
    "\n",
    "stock_data['timestamp'] =  list(map(formatJST, list(stock_data['Date'])))\n",
    "stock_data.sort_values(by=['timestamp'])\n",
    "stock_data.info()\n",
    "stock_data.plot(x=\"timestamp\", y=\"Adj Close\")"
   ]
  },
  {
   "cell_type": "code",
   "execution_count": 186,
   "id": "0fe133e3",
   "metadata": {},
   "outputs": [
    {
     "name": "stderr",
     "output_type": "stream",
     "text": [
      "/var/folders/vz/wcr8_9tj1bvb6_3yp7t72tx00000gn/T/ipykernel_10094/2461807197.py:2: SettingWithCopyWarning: \n",
      "A value is trying to be set on a copy of a slice from a DataFrame\n",
      "\n",
      "See the caveats in the documentation: https://pandas.pydata.org/pandas-docs/stable/user_guide/indexing.html#returning-a-view-versus-a-copy\n",
      "  stock_data[\"shifted_adj_close\"][0] = stock_data[\"Adj Close\"][0]\n"
     ]
    }
   ],
   "source": [
    "stock_data[\"shifted_adj_close\"] = stock_data[\"Adj Close\"].shift(1)\n",
    "stock_data[\"shifted_adj_close\"][0] = stock_data[\"Adj Close\"][0]"
   ]
  },
  {
   "cell_type": "code",
   "execution_count": 193,
   "id": "83bd36e8",
   "metadata": {},
   "outputs": [],
   "source": [
    "stock_data[\"Adj Close Returns\"] = stock_data[\"shifted_adj_close\"] / stock_data[\"Adj Close\"]"
   ]
  },
  {
   "cell_type": "code",
   "execution_count": 194,
   "id": "5eeacb0e",
   "metadata": {},
   "outputs": [],
   "source": [
    "CustomStrategy = ta.Strategy(\n",
    "    name=\"Macd\",\n",
    "    ta=[\n",
    "        {\"kind\": \"sma\", \"length\": 50},\n",
    "        {\"kind\": \"macd\", \"fast\": 8, \"slow\": 21},\n",
    "#         {\"kind\": \"sma\", \"close\": \"volume\", \"length\": 20, \"prefix\": \"VOLUME\"},\n",
    "    ]\n",
    ")\n",
    "stock_data.ta.strategy(CustomStrategy)\n"
   ]
  },
  {
   "cell_type": "code",
   "execution_count": 195,
   "id": "f4d24967",
   "metadata": {},
   "outputs": [
    {
     "data": {
      "text/html": [
       "<div>\n",
       "<style scoped>\n",
       "    .dataframe tbody tr th:only-of-type {\n",
       "        vertical-align: middle;\n",
       "    }\n",
       "\n",
       "    .dataframe tbody tr th {\n",
       "        vertical-align: top;\n",
       "    }\n",
       "\n",
       "    .dataframe thead th {\n",
       "        text-align: right;\n",
       "    }\n",
       "</style>\n",
       "<table border=\"1\" class=\"dataframe\">\n",
       "  <thead>\n",
       "    <tr style=\"text-align: right;\">\n",
       "      <th></th>\n",
       "      <th>Date</th>\n",
       "      <th>Open</th>\n",
       "      <th>High</th>\n",
       "      <th>Low</th>\n",
       "      <th>Close</th>\n",
       "      <th>Adj Close</th>\n",
       "      <th>Volume</th>\n",
       "      <th>timestamp</th>\n",
       "      <th>shifted_adj_close</th>\n",
       "      <th>Adj Close Returns</th>\n",
       "      <th>SMA_50</th>\n",
       "      <th>MACD_8_21_9</th>\n",
       "      <th>MACDh_8_21_9</th>\n",
       "      <th>MACDs_8_21_9</th>\n",
       "    </tr>\n",
       "  </thead>\n",
       "  <tbody>\n",
       "    <tr>\n",
       "      <th>0</th>\n",
       "      <td>2000-12-08</td>\n",
       "      <td>666.666687</td>\n",
       "      <td>715.000000</td>\n",
       "      <td>633.333313</td>\n",
       "      <td>680.000000</td>\n",
       "      <td>562.626587</td>\n",
       "      <td>6696000</td>\n",
       "      <td>976255200</td>\n",
       "      <td>562.626587</td>\n",
       "      <td>1.000000</td>\n",
       "      <td>NaN</td>\n",
       "      <td>NaN</td>\n",
       "      <td>NaN</td>\n",
       "      <td>NaN</td>\n",
       "    </tr>\n",
       "    <tr>\n",
       "      <th>1</th>\n",
       "      <td>2000-12-11</td>\n",
       "      <td>675.000000</td>\n",
       "      <td>680.000000</td>\n",
       "      <td>580.000000</td>\n",
       "      <td>580.000000</td>\n",
       "      <td>479.887451</td>\n",
       "      <td>1272000</td>\n",
       "      <td>976514400</td>\n",
       "      <td>562.626587</td>\n",
       "      <td>1.172414</td>\n",
       "      <td>NaN</td>\n",
       "      <td>NaN</td>\n",
       "      <td>NaN</td>\n",
       "      <td>NaN</td>\n",
       "    </tr>\n",
       "    <tr>\n",
       "      <th>2</th>\n",
       "      <td>2000-12-12</td>\n",
       "      <td>575.000000</td>\n",
       "      <td>621.666687</td>\n",
       "      <td>571.666687</td>\n",
       "      <td>591.666687</td>\n",
       "      <td>489.540344</td>\n",
       "      <td>1068000</td>\n",
       "      <td>976600800</td>\n",
       "      <td>479.887451</td>\n",
       "      <td>0.980282</td>\n",
       "      <td>NaN</td>\n",
       "      <td>NaN</td>\n",
       "      <td>NaN</td>\n",
       "      <td>NaN</td>\n",
       "    </tr>\n",
       "    <tr>\n",
       "      <th>3</th>\n",
       "      <td>2000-12-13</td>\n",
       "      <td>586.666687</td>\n",
       "      <td>608.333313</td>\n",
       "      <td>541.666687</td>\n",
       "      <td>566.666687</td>\n",
       "      <td>468.855591</td>\n",
       "      <td>552000</td>\n",
       "      <td>976687200</td>\n",
       "      <td>489.540344</td>\n",
       "      <td>1.044118</td>\n",
       "      <td>NaN</td>\n",
       "      <td>NaN</td>\n",
       "      <td>NaN</td>\n",
       "      <td>NaN</td>\n",
       "    </tr>\n",
       "    <tr>\n",
       "      <th>4</th>\n",
       "      <td>2000-12-14</td>\n",
       "      <td>561.666687</td>\n",
       "      <td>563.333313</td>\n",
       "      <td>541.666687</td>\n",
       "      <td>558.333313</td>\n",
       "      <td>461.960663</td>\n",
       "      <td>330000</td>\n",
       "      <td>976773600</td>\n",
       "      <td>468.855591</td>\n",
       "      <td>1.014925</td>\n",
       "      <td>NaN</td>\n",
       "      <td>NaN</td>\n",
       "      <td>NaN</td>\n",
       "      <td>NaN</td>\n",
       "    </tr>\n",
       "  </tbody>\n",
       "</table>\n",
       "</div>"
      ],
      "text/plain": [
       "         Date        Open        High         Low       Close   Adj Close  \\\n",
       "0  2000-12-08  666.666687  715.000000  633.333313  680.000000  562.626587   \n",
       "1  2000-12-11  675.000000  680.000000  580.000000  580.000000  479.887451   \n",
       "2  2000-12-12  575.000000  621.666687  571.666687  591.666687  489.540344   \n",
       "3  2000-12-13  586.666687  608.333313  541.666687  566.666687  468.855591   \n",
       "4  2000-12-14  561.666687  563.333313  541.666687  558.333313  461.960663   \n",
       "\n",
       "    Volume  timestamp  shifted_adj_close  Adj Close Returns  SMA_50  \\\n",
       "0  6696000  976255200         562.626587           1.000000     NaN   \n",
       "1  1272000  976514400         562.626587           1.172414     NaN   \n",
       "2  1068000  976600800         479.887451           0.980282     NaN   \n",
       "3   552000  976687200         489.540344           1.044118     NaN   \n",
       "4   330000  976773600         468.855591           1.014925     NaN   \n",
       "\n",
       "   MACD_8_21_9  MACDh_8_21_9  MACDs_8_21_9  \n",
       "0          NaN           NaN           NaN  \n",
       "1          NaN           NaN           NaN  \n",
       "2          NaN           NaN           NaN  \n",
       "3          NaN           NaN           NaN  \n",
       "4          NaN           NaN           NaN  "
      ]
     },
     "execution_count": 195,
     "metadata": {},
     "output_type": "execute_result"
    }
   ],
   "source": [
    "stock_data.head()"
   ]
  },
  {
   "cell_type": "code",
   "execution_count": 190,
   "id": "7105ea96",
   "metadata": {},
   "outputs": [
    {
     "data": {
      "text/plain": [
       "<AxesSubplot:xlabel='timestamp'>"
      ]
     },
     "execution_count": 190,
     "metadata": {},
     "output_type": "execute_result"
    },
    {
     "data": {
      "image/png": "[encoded data removed]",
      "text/plain": [
       "<Figure size 432x288 with 1 Axes>"
      ]
     },
     "metadata": {
      "needs_background": "light"
     },
     "output_type": "display_data"
    }
   ],
   "source": [
    "stock_data.plot(y=\"Adj Close Returns\")"
   ]
  },
  {
   "cell_type": "code",
   "execution_count": 198,
   "id": "589b2556",
   "metadata": {},
   "outputs": [
    {
     "data": {
      "text/plain": [
       "<AxesSubplot:>"
      ]
     },
     "execution_count": 198,
     "metadata": {},
     "output_type": "execute_result"
    },
    {
     "data": {
      "image/png": "[encoded data removed]",
      "text/plain": [
       "<Figure size 432x288 with 1 Axes>"
      ]
     },
     "metadata": {
      "needs_background": "light"
     },
     "output_type": "display_data"
    }
   ],
   "source": [
    "stock_data.plot(y=[\"MACD_8_21_9\",\"MACDh_8_21_9\", \"MACDs_8_21_9\"])"
   ]
  },
  {
   "cell_type": "code",
   "execution_count": 199,
   "id": "c80f2cc4",
   "metadata": {},
   "outputs": [
    {
     "data": {
      "text/plain": [
       "<AxesSubplot:xlabel='timestamp'>"
      ]
     },
     "execution_count": 199,
     "metadata": {},
     "output_type": "execute_result"
    },
    {
     "data": {
      "image/png": "[encoded data removed]",
      "text/plain": [
       "<Figure size 432x288 with 1 Axes>"
      ]
     },
     "metadata": {
      "needs_background": "light"
     },
     "output_type": "display_data"
    }
   ],
   "source": [
    "op_data = pd.read_csv('./one_piece_stats.csv')\n",
    "def format(day):\n",
    "    day = day[:day.rindex(\" (\")]\n",
    "    dt = parser.parse(day)\n",
    "    return int(datetime.timestamp(dt))\n",
    "\n",
    "op_data['timestamp'] =  list(map(format, list(op_data['Date'])))\n",
    "\n",
    "op_data[\"Members\"] = op_data[\"Members\"].str.replace(',', '').astype(int)\n",
    "op_data[\"Scored by\"] = op_data[\"Scored by\"].str.replace(',', '').astype(int)\n",
    "op_data.plot(x=\"timestamp\", y=\"Rating Rank\")"
   ]
  },
  {
   "cell_type": "code",
   "execution_count": 200,
   "id": "35d01c7b",
   "metadata": {},
   "outputs": [
    {
     "data": {
      "text/html": [
       "<div>\n",
       "<style scoped>\n",
       "    .dataframe tbody tr th:only-of-type {\n",
       "        vertical-align: middle;\n",
       "    }\n",
       "\n",
       "    .dataframe tbody tr th {\n",
       "        vertical-align: top;\n",
       "    }\n",
       "\n",
       "    .dataframe thead th {\n",
       "        text-align: right;\n",
       "    }\n",
       "</style>\n",
       "<table border=\"1\" class=\"dataframe\">\n",
       "  <thead>\n",
       "    <tr style=\"text-align: right;\">\n",
       "      <th></th>\n",
       "      <th>Score</th>\n",
       "      <th>Scored by</th>\n",
       "      <th>Popularity Rank</th>\n",
       "      <th>Rating Rank</th>\n",
       "      <th>Members</th>\n",
       "      <th>Date</th>\n",
       "      <th>timestamp</th>\n",
       "    </tr>\n",
       "  </thead>\n",
       "  <tbody>\n",
       "    <tr>\n",
       "      <th>0</th>\n",
       "      <td>8.55</td>\n",
       "      <td>389305</td>\n",
       "      <td>32</td>\n",
       "      <td>842</td>\n",
       "      <td>653763</td>\n",
       "      <td>Sat Dec 30 2017 13:55:07 GMT-0500 (Eastern Sta...</td>\n",
       "      <td>1514624107</td>\n",
       "    </tr>\n",
       "    <tr>\n",
       "      <th>1</th>\n",
       "      <td>8.54</td>\n",
       "      <td>390598</td>\n",
       "      <td>32</td>\n",
       "      <td>872</td>\n",
       "      <td>656161</td>\n",
       "      <td>Thu Jan 04 2018 01:00:54 GMT-0500 (Eastern Sta...</td>\n",
       "      <td>1515009654</td>\n",
       "    </tr>\n",
       "    <tr>\n",
       "      <th>2</th>\n",
       "      <td>8.54</td>\n",
       "      <td>392776</td>\n",
       "      <td>32</td>\n",
       "      <td>882</td>\n",
       "      <td>660222</td>\n",
       "      <td>Thu Jan 11 2018 01:33:03 GMT-0500 (Eastern Sta...</td>\n",
       "      <td>1515616383</td>\n",
       "    </tr>\n",
       "    <tr>\n",
       "      <th>3</th>\n",
       "      <td>8.54</td>\n",
       "      <td>394764</td>\n",
       "      <td>32</td>\n",
       "      <td>902</td>\n",
       "      <td>663864</td>\n",
       "      <td>Thu Jan 18 2018 02:15:08 GMT-0500 (Eastern Sta...</td>\n",
       "      <td>1516223708</td>\n",
       "    </tr>\n",
       "    <tr>\n",
       "      <th>4</th>\n",
       "      <td>8.54</td>\n",
       "      <td>396607</td>\n",
       "      <td>32</td>\n",
       "      <td>892</td>\n",
       "      <td>667388</td>\n",
       "      <td>Thu Jan 25 2018 16:09:50 GMT-0500 (Eastern Sta...</td>\n",
       "      <td>1516878590</td>\n",
       "    </tr>\n",
       "  </tbody>\n",
       "</table>\n",
       "</div>"
      ],
      "text/plain": [
       "   Score  Scored by  Popularity Rank  Rating Rank  Members  \\\n",
       "0   8.55     389305               32          842   653763   \n",
       "1   8.54     390598               32          872   656161   \n",
       "2   8.54     392776               32          882   660222   \n",
       "3   8.54     394764               32          902   663864   \n",
       "4   8.54     396607               32          892   667388   \n",
       "\n",
       "                                                Date   timestamp  \n",
       "0  Sat Dec 30 2017 13:55:07 GMT-0500 (Eastern Sta...  1514624107  \n",
       "1  Thu Jan 04 2018 01:00:54 GMT-0500 (Eastern Sta...  1515009654  \n",
       "2  Thu Jan 11 2018 01:33:03 GMT-0500 (Eastern Sta...  1515616383  \n",
       "3  Thu Jan 18 2018 02:15:08 GMT-0500 (Eastern Sta...  1516223708  \n",
       "4  Thu Jan 25 2018 16:09:50 GMT-0500 (Eastern Sta...  1516878590  "
      ]
     },
     "execution_count": 200,
     "metadata": {},
     "output_type": "execute_result"
    }
   ],
   "source": [
    "op_data.head()"
   ]
  },
  {
   "cell_type": "code",
   "execution_count": 201,
   "id": "ab1c9608",
   "metadata": {},
   "outputs": [],
   "source": [
    "# j=0\n",
    "# good_indices = []\n",
    "# stock_offset = 0\n",
    "# aligned_scores = []\n",
    "# ended = -1\n",
    "# for i in range(len(stock_data[\"timestamp\"])):\n",
    "#     cur_time = stock_data[\"timestamp\"][i]\n",
    "#     prev_time = cur_time-86400\n",
    "\n",
    "#     while cur_time>op_data[\"timestamp\"][j]:\n",
    "#         j+=1\n",
    "#         if j==len(op_data[\"timestamp\"]):\n",
    "#             ended = i                \n",
    "#             break\n",
    "    \n",
    "#     if ended>0:\n",
    "#         print(\"broke at\", i)\n",
    "#         break\n",
    "\n",
    "#     if j==0:\n",
    "#         stock_offset = i\n",
    "#         continue\n",
    "\n",
    "#     op_time = op_data[\"timestamp\"][j-1]\n",
    "\n",
    "#     aligned_scores.append(op_data[\"Rating Rank\"][j-1])\n",
    "#     good_indices.append(j-1)\n",
    "\n",
    "\n",
    "# print(len(aligned_scores))\n",
    "\n",
    "# sliced_data = stock_data[stock_offset+1:ended]\n",
    "# sliced_data[\"Rank\"]=aligned_scores\n",
    "# sliced_data.head()\n"
   ]
  },
  {
   "cell_type": "code",
   "execution_count": 202,
   "id": "d435012a",
   "metadata": {},
   "outputs": [],
   "source": [
    "stock_data[\"Day Delta\"] = stock_data[\"timestamp\"].diff().shift(-1).to_numpy() / 86400\n",
    "stock_data.at[len(stock_data)-1, \"Day Delta\"]= 1"
   ]
  },
  {
   "cell_type": "code",
   "execution_count": 203,
   "id": "8e85b44c",
   "metadata": {},
   "outputs": [
    {
     "data": {
      "text/html": [
       "<div>\n",
       "<style scoped>\n",
       "    .dataframe tbody tr th:only-of-type {\n",
       "        vertical-align: middle;\n",
       "    }\n",
       "\n",
       "    .dataframe tbody tr th {\n",
       "        vertical-align: top;\n",
       "    }\n",
       "\n",
       "    .dataframe thead th {\n",
       "        text-align: right;\n",
       "    }\n",
       "</style>\n",
       "<table border=\"1\" class=\"dataframe\">\n",
       "  <thead>\n",
       "    <tr style=\"text-align: right;\">\n",
       "      <th></th>\n",
       "      <th>Date</th>\n",
       "      <th>Open</th>\n",
       "      <th>High</th>\n",
       "      <th>Low</th>\n",
       "      <th>Close</th>\n",
       "      <th>Adj Close</th>\n",
       "      <th>Volume</th>\n",
       "      <th>timestamp</th>\n",
       "      <th>shifted_adj_close</th>\n",
       "      <th>Adj Close Returns</th>\n",
       "      <th>SMA_50</th>\n",
       "      <th>MACD_8_21_9</th>\n",
       "      <th>MACDh_8_21_9</th>\n",
       "      <th>MACDs_8_21_9</th>\n",
       "      <th>Day Delta</th>\n",
       "    </tr>\n",
       "  </thead>\n",
       "  <tbody>\n",
       "    <tr>\n",
       "      <th>0</th>\n",
       "      <td>2000-12-08</td>\n",
       "      <td>666.666687</td>\n",
       "      <td>715.000000</td>\n",
       "      <td>633.333313</td>\n",
       "      <td>680.000000</td>\n",
       "      <td>562.626587</td>\n",
       "      <td>6696000</td>\n",
       "      <td>976255200</td>\n",
       "      <td>562.626587</td>\n",
       "      <td>1.000000</td>\n",
       "      <td>NaN</td>\n",
       "      <td>NaN</td>\n",
       "      <td>NaN</td>\n",
       "      <td>NaN</td>\n",
       "      <td>3.0</td>\n",
       "    </tr>\n",
       "    <tr>\n",
       "      <th>1</th>\n",
       "      <td>2000-12-11</td>\n",
       "      <td>675.000000</td>\n",
       "      <td>680.000000</td>\n",
       "      <td>580.000000</td>\n",
       "      <td>580.000000</td>\n",
       "      <td>479.887451</td>\n",
       "      <td>1272000</td>\n",
       "      <td>976514400</td>\n",
       "      <td>562.626587</td>\n",
       "      <td>1.172414</td>\n",
       "      <td>NaN</td>\n",
       "      <td>NaN</td>\n",
       "      <td>NaN</td>\n",
       "      <td>NaN</td>\n",
       "      <td>1.0</td>\n",
       "    </tr>\n",
       "    <tr>\n",
       "      <th>2</th>\n",
       "      <td>2000-12-12</td>\n",
       "      <td>575.000000</td>\n",
       "      <td>621.666687</td>\n",
       "      <td>571.666687</td>\n",
       "      <td>591.666687</td>\n",
       "      <td>489.540344</td>\n",
       "      <td>1068000</td>\n",
       "      <td>976600800</td>\n",
       "      <td>479.887451</td>\n",
       "      <td>0.980282</td>\n",
       "      <td>NaN</td>\n",
       "      <td>NaN</td>\n",
       "      <td>NaN</td>\n",
       "      <td>NaN</td>\n",
       "      <td>1.0</td>\n",
       "    </tr>\n",
       "    <tr>\n",
       "      <th>3</th>\n",
       "      <td>2000-12-13</td>\n",
       "      <td>586.666687</td>\n",
       "      <td>608.333313</td>\n",
       "      <td>541.666687</td>\n",
       "      <td>566.666687</td>\n",
       "      <td>468.855591</td>\n",
       "      <td>552000</td>\n",
       "      <td>976687200</td>\n",
       "      <td>489.540344</td>\n",
       "      <td>1.044118</td>\n",
       "      <td>NaN</td>\n",
       "      <td>NaN</td>\n",
       "      <td>NaN</td>\n",
       "      <td>NaN</td>\n",
       "      <td>1.0</td>\n",
       "    </tr>\n",
       "    <tr>\n",
       "      <th>4</th>\n",
       "      <td>2000-12-14</td>\n",
       "      <td>561.666687</td>\n",
       "      <td>563.333313</td>\n",
       "      <td>541.666687</td>\n",
       "      <td>558.333313</td>\n",
       "      <td>461.960663</td>\n",
       "      <td>330000</td>\n",
       "      <td>976773600</td>\n",
       "      <td>468.855591</td>\n",
       "      <td>1.014925</td>\n",
       "      <td>NaN</td>\n",
       "      <td>NaN</td>\n",
       "      <td>NaN</td>\n",
       "      <td>NaN</td>\n",
       "      <td>1.0</td>\n",
       "    </tr>\n",
       "  </tbody>\n",
       "</table>\n",
       "</div>"
      ],
      "text/plain": [
       "         Date        Open        High         Low       Close   Adj Close  \\\n",
       "0  2000-12-08  666.666687  715.000000  633.333313  680.000000  562.626587   \n",
       "1  2000-12-11  675.000000  680.000000  580.000000  580.000000  479.887451   \n",
       "2  2000-12-12  575.000000  621.666687  571.666687  591.666687  489.540344   \n",
       "3  2000-12-13  586.666687  608.333313  541.666687  566.666687  468.855591   \n",
       "4  2000-12-14  561.666687  563.333313  541.666687  558.333313  461.960663   \n",
       "\n",
       "    Volume  timestamp  shifted_adj_close  Adj Close Returns  SMA_50  \\\n",
       "0  6696000  976255200         562.626587           1.000000     NaN   \n",
       "1  1272000  976514400         562.626587           1.172414     NaN   \n",
       "2  1068000  976600800         479.887451           0.980282     NaN   \n",
       "3   552000  976687200         489.540344           1.044118     NaN   \n",
       "4   330000  976773600         468.855591           1.014925     NaN   \n",
       "\n",
       "   MACD_8_21_9  MACDh_8_21_9  MACDs_8_21_9  Day Delta  \n",
       "0          NaN           NaN           NaN        3.0  \n",
       "1          NaN           NaN           NaN        1.0  \n",
       "2          NaN           NaN           NaN        1.0  \n",
       "3          NaN           NaN           NaN        1.0  \n",
       "4          NaN           NaN           NaN        1.0  "
      ]
     },
     "execution_count": 203,
     "metadata": {},
     "output_type": "execute_result"
    }
   ],
   "source": [
    "stock_data.head()"
   ]
  },
  {
   "cell_type": "code",
   "execution_count": 204,
   "id": "a1c20ebf",
   "metadata": {},
   "outputs": [],
   "source": [
    "stock_data.to_csv(\"processed_data.csv\", index=False)"
   ]
  },
  {
   "cell_type": "code",
   "execution_count": null,
   "id": "e1cc26bd",
   "metadata": {},
   "outputs": [],
   "source": []
  }
 ],
 "metadata": {
  "kernelspec": {
   "display_name": "Python 3 (ipykernel)",
   "language": "python",
   "name": "python3"
  },
  "language_info": {
   "codemirror_mode": {
    "name": "ipython",
    "version": 3
   },
   "file_extension": ".py",
   "mimetype": "text/x-python",
   "name": "python",
   "nbconvert_exporter": "python",
   "pygments_lexer": "ipython3",
   "version": "3.9.13"
  }
 },
 "nbformat": 4,
 "nbformat_minor": 5
}
