{
 "cells": [
  {
   "cell_type": "code",
   "execution_count": 1,
   "id": "3bc1dc63",
   "metadata": {},
   "outputs": [],
   "source": [
    "import pandas as pd\n",
    "from dateutil import parser\n",
    "from datetime import datetime, timedelta, timezone, tzinfo\n",
    "import matplotlib.pyplot as plt\n",
    "import numpy as np\n",
    "from keras.models import Sequential\n",
    "from keras.layers import Dense\n",
    "from keras.layers import LSTM"
   ]
  },
  {
   "cell_type": "code",
   "execution_count": 39,
   "id": "1e42b879",
   "metadata": {},
   "outputs": [],
   "source": [
    "stock_data = pd.read_csv('./toei_stock.csv')"
   ]
  },
  {
   "cell_type": "code",
   "execution_count": 40,
   "id": "7e9295ef",
   "metadata": {},
   "outputs": [
    {
     "name": "stdout",
     "output_type": "stream",
     "text": [
      "<class 'pandas.core.frame.DataFrame'>\n",
      "RangeIndex: 1240 entries, 0 to 1239\n",
      "Data columns (total 8 columns):\n",
      " #   Column     Non-Null Count  Dtype  \n",
      "---  ------     --------------  -----  \n",
      " 0   Date       1240 non-null   object \n",
      " 1   Open       1240 non-null   float64\n",
      " 2   High       1240 non-null   float64\n",
      " 3   Low        1240 non-null   float64\n",
      " 4   Close      1240 non-null   float64\n",
      " 5   Adj Close  1240 non-null   float64\n",
      " 6   Volume     1240 non-null   int64  \n",
      " 7   timestamp  1240 non-null   int64  \n",
      "dtypes: float64(5), int64(2), object(1)\n",
      "memory usage: 77.6+ KB\n"
     ]
    },
    {
     "data": {
      "text/plain": [
       "<AxesSubplot:xlabel='timestamp'>"
      ]
     },
     "execution_count": 40,
     "metadata": {},
     "output_type": "execute_result"
    },
    {
     "data": {
      "image/png": "[encoded data removed]",
      "text/plain": [
       "<Figure size 432x288 with 1 Axes>"
      ]
     },
     "metadata": {
      "needs_background": "light"
     },
     "output_type": "display_data"
    }
   ],
   "source": [
    "def formatJST(day):\n",
    "    dt = parser.parse(day + \" 15:00 JST\", tzinfos={\"JST\":9*3600})\n",
    "    return int(datetime.timestamp(dt))\n",
    "\n",
    "\n",
    "stock_data['timestamp'] =  list(map(formatJST, list(stock_data['Date'])))\n",
    "stock_data.sort_values(by=['timestamp'])\n",
    "stock_data.info()\n",
    "stock_data.plot(x=\"timestamp\", y=\"Adj Close\")"
   ]
  },
  {
   "cell_type": "code",
   "execution_count": 41,
   "id": "0fe133e3",
   "metadata": {},
   "outputs": [
    {
     "name": "stderr",
     "output_type": "stream",
     "text": [
      "/var/folders/vz/wcr8_9tj1bvb6_3yp7t72tx00000gn/T/ipykernel_10094/2461807197.py:2: SettingWithCopyWarning: \n",
      "A value is trying to be set on a copy of a slice from a DataFrame\n",
      "\n",
      "See the caveats in the documentation: https://pandas.pydata.org/pandas-docs/stable/user_guide/indexing.html#returning-a-view-versus-a-copy\n",
      "  stock_data[\"shifted_adj_close\"][0] = stock_data[\"Adj Close\"][0]\n"
     ]
    }
   ],
   "source": [
    "stock_data[\"shifted_adj_close\"] = stock_data[\"Adj Close\"].shift(1)\n",
    "stock_data[\"shifted_adj_close\"][0] = stock_data[\"Adj Close\"][0]"
   ]
  },
  {
   "cell_type": "code",
   "execution_count": 42,
   "id": "83bd36e8",
   "metadata": {},
   "outputs": [],
   "source": [
    "stock_data[\"Log Returns\"] = np.log(stock_data[\"shifted_adj_close\"] / stock_data[\"Adj Close\"])"
   ]
  },
  {
   "cell_type": "code",
   "execution_count": 43,
   "id": "f4d24967",
   "metadata": {},
   "outputs": [
    {
     "data": {
      "text/html": [
       "<div>\n",
       "<style scoped>\n",
       "    .dataframe tbody tr th:only-of-type {\n",
       "        vertical-align: middle;\n",
       "    }\n",
       "\n",
       "    .dataframe tbody tr th {\n",
       "        vertical-align: top;\n",
       "    }\n",
       "\n",
       "    .dataframe thead th {\n",
       "        text-align: right;\n",
       "    }\n",
       "</style>\n",
       "<table border=\"1\" class=\"dataframe\">\n",
       "  <thead>\n",
       "    <tr style=\"text-align: right;\">\n",
       "      <th></th>\n",
       "      <th>Date</th>\n",
       "      <th>Open</th>\n",
       "      <th>High</th>\n",
       "      <th>Low</th>\n",
       "      <th>Close</th>\n",
       "      <th>Adj Close</th>\n",
       "      <th>Volume</th>\n",
       "      <th>timestamp</th>\n",
       "      <th>shifted_adj_close</th>\n",
       "      <th>Log Returns</th>\n",
       "    </tr>\n",
       "  </thead>\n",
       "  <tbody>\n",
       "    <tr>\n",
       "      <th>0</th>\n",
       "      <td>2017-05-30</td>\n",
       "      <td>2253.333252</td>\n",
       "      <td>2276.666748</td>\n",
       "      <td>2253.333252</td>\n",
       "      <td>2276.666748</td>\n",
       "      <td>2094.753662</td>\n",
       "      <td>2700</td>\n",
       "      <td>1496124000</td>\n",
       "      <td>2094.753662</td>\n",
       "      <td>0.000000</td>\n",
       "    </tr>\n",
       "    <tr>\n",
       "      <th>1</th>\n",
       "      <td>2017-05-31</td>\n",
       "      <td>2253.333252</td>\n",
       "      <td>2296.666748</td>\n",
       "      <td>2253.333252</td>\n",
       "      <td>2296.666748</td>\n",
       "      <td>2113.155518</td>\n",
       "      <td>7500</td>\n",
       "      <td>1496210400</td>\n",
       "      <td>2094.753662</td>\n",
       "      <td>-0.008746</td>\n",
       "    </tr>\n",
       "    <tr>\n",
       "      <th>2</th>\n",
       "      <td>2017-06-01</td>\n",
       "      <td>2296.666748</td>\n",
       "      <td>2320.000000</td>\n",
       "      <td>2276.666748</td>\n",
       "      <td>2316.666748</td>\n",
       "      <td>2131.557617</td>\n",
       "      <td>9300</td>\n",
       "      <td>1496296800</td>\n",
       "      <td>2113.155518</td>\n",
       "      <td>-0.008671</td>\n",
       "    </tr>\n",
       "    <tr>\n",
       "      <th>3</th>\n",
       "      <td>2017-06-02</td>\n",
       "      <td>2326.666748</td>\n",
       "      <td>2326.666748</td>\n",
       "      <td>2283.333252</td>\n",
       "      <td>2286.666748</td>\n",
       "      <td>2103.954834</td>\n",
       "      <td>15000</td>\n",
       "      <td>1496383200</td>\n",
       "      <td>2131.557617</td>\n",
       "      <td>0.013034</td>\n",
       "    </tr>\n",
       "    <tr>\n",
       "      <th>4</th>\n",
       "      <td>2017-06-05</td>\n",
       "      <td>2290.000000</td>\n",
       "      <td>2320.000000</td>\n",
       "      <td>2286.666748</td>\n",
       "      <td>2320.000000</td>\n",
       "      <td>2134.624756</td>\n",
       "      <td>17400</td>\n",
       "      <td>1496642400</td>\n",
       "      <td>2103.954834</td>\n",
       "      <td>-0.014472</td>\n",
       "    </tr>\n",
       "  </tbody>\n",
       "</table>\n",
       "</div>"
      ],
      "text/plain": [
       "         Date         Open         High          Low        Close  \\\n",
       "0  2017-05-30  2253.333252  2276.666748  2253.333252  2276.666748   \n",
       "1  2017-05-31  2253.333252  2296.666748  2253.333252  2296.666748   \n",
       "2  2017-06-01  2296.666748  2320.000000  2276.666748  2316.666748   \n",
       "3  2017-06-02  2326.666748  2326.666748  2283.333252  2286.666748   \n",
       "4  2017-06-05  2290.000000  2320.000000  2286.666748  2320.000000   \n",
       "\n",
       "     Adj Close  Volume   timestamp  shifted_adj_close  Log Returns  \n",
       "0  2094.753662    2700  1496124000        2094.753662     0.000000  \n",
       "1  2113.155518    7500  1496210400        2094.753662    -0.008746  \n",
       "2  2131.557617    9300  1496296800        2113.155518    -0.008671  \n",
       "3  2103.954834   15000  1496383200        2131.557617     0.013034  \n",
       "4  2134.624756   17400  1496642400        2103.954834    -0.014472  "
      ]
     },
     "execution_count": 43,
     "metadata": {},
     "output_type": "execute_result"
    }
   ],
   "source": [
    "stock_data.head()"
   ]
  },
  {
   "cell_type": "code",
   "execution_count": 44,
   "id": "7105ea96",
   "metadata": {},
   "outputs": [
    {
     "data": {
      "text/plain": [
       "<AxesSubplot:xlabel='timestamp'>"
      ]
     },
     "execution_count": 44,
     "metadata": {},
     "output_type": "execute_result"
    },
    {
     "data": {
      "image/png": "[encoded data removed]",
      "text/plain": [
       "<Figure size 432x288 with 1 Axes>"
      ]
     },
     "metadata": {
      "needs_background": "light"
     },
     "output_type": "display_data"
    }
   ],
   "source": [
    "stock_data.plot(x=\"timestamp\", y=\"Log Returns\")"
   ]
  },
  {
   "cell_type": "code",
   "execution_count": 45,
   "id": "c80f2cc4",
   "metadata": {},
   "outputs": [
    {
     "data": {
      "text/plain": [
       "<AxesSubplot:xlabel='timestamp'>"
      ]
     },
     "execution_count": 45,
     "metadata": {},
     "output_type": "execute_result"
    },
    {
     "data": {
      "image/png": "[encoded data removed]",
      "text/plain": [
       "<Figure size 432x288 with 1 Axes>"
      ]
     },
     "metadata": {
      "needs_background": "light"
     },
     "output_type": "display_data"
    }
   ],
   "source": [
    "op_data = pd.read_csv('./one_piece_stats.csv')\n",
    "def format(day):\n",
    "    day = day[:day.rindex(\" (\")]\n",
    "    dt = parser.parse(day)\n",
    "    return int(datetime.timestamp(dt))\n",
    "\n",
    "op_data['timestamp'] =  list(map(format, list(op_data['Date'])))\n",
    "\n",
    "op_data[\"Members\"] = op_data[\"Members\"].str.replace(',', '').astype(int)\n",
    "op_data[\"Scored by\"] = op_data[\"Scored by\"].str.replace(',', '').astype(int)\n",
    "op_data.plot(x=\"timestamp\", y=\"Rating Rank\")"
   ]
  },
  {
   "cell_type": "code",
   "execution_count": 46,
   "id": "35d01c7b",
   "metadata": {},
   "outputs": [
    {
     "data": {
      "text/html": [
       "<div>\n",
       "<style scoped>\n",
       "    .dataframe tbody tr th:only-of-type {\n",
       "        vertical-align: middle;\n",
       "    }\n",
       "\n",
       "    .dataframe tbody tr th {\n",
       "        vertical-align: top;\n",
       "    }\n",
       "\n",
       "    .dataframe thead th {\n",
       "        text-align: right;\n",
       "    }\n",
       "</style>\n",
       "<table border=\"1\" class=\"dataframe\">\n",
       "  <thead>\n",
       "    <tr style=\"text-align: right;\">\n",
       "      <th></th>\n",
       "      <th>Score</th>\n",
       "      <th>Scored by</th>\n",
       "      <th>Popularity Rank</th>\n",
       "      <th>Rating Rank</th>\n",
       "      <th>Members</th>\n",
       "      <th>Date</th>\n",
       "      <th>timestamp</th>\n",
       "    </tr>\n",
       "  </thead>\n",
       "  <tbody>\n",
       "    <tr>\n",
       "      <th>0</th>\n",
       "      <td>8.55</td>\n",
       "      <td>389305</td>\n",
       "      <td>32</td>\n",
       "      <td>842</td>\n",
       "      <td>653763</td>\n",
       "      <td>Sat Dec 30 2017 13:55:07 GMT-0500 (Eastern Sta...</td>\n",
       "      <td>1514624107</td>\n",
       "    </tr>\n",
       "    <tr>\n",
       "      <th>1</th>\n",
       "      <td>8.54</td>\n",
       "      <td>390598</td>\n",
       "      <td>32</td>\n",
       "      <td>872</td>\n",
       "      <td>656161</td>\n",
       "      <td>Thu Jan 04 2018 01:00:54 GMT-0500 (Eastern Sta...</td>\n",
       "      <td>1515009654</td>\n",
       "    </tr>\n",
       "    <tr>\n",
       "      <th>2</th>\n",
       "      <td>8.54</td>\n",
       "      <td>392776</td>\n",
       "      <td>32</td>\n",
       "      <td>882</td>\n",
       "      <td>660222</td>\n",
       "      <td>Thu Jan 11 2018 01:33:03 GMT-0500 (Eastern Sta...</td>\n",
       "      <td>1515616383</td>\n",
       "    </tr>\n",
       "    <tr>\n",
       "      <th>3</th>\n",
       "      <td>8.54</td>\n",
       "      <td>394764</td>\n",
       "      <td>32</td>\n",
       "      <td>902</td>\n",
       "      <td>663864</td>\n",
       "      <td>Thu Jan 18 2018 02:15:08 GMT-0500 (Eastern Sta...</td>\n",
       "      <td>1516223708</td>\n",
       "    </tr>\n",
       "    <tr>\n",
       "      <th>4</th>\n",
       "      <td>8.54</td>\n",
       "      <td>396607</td>\n",
       "      <td>32</td>\n",
       "      <td>892</td>\n",
       "      <td>667388</td>\n",
       "      <td>Thu Jan 25 2018 16:09:50 GMT-0500 (Eastern Sta...</td>\n",
       "      <td>1516878590</td>\n",
       "    </tr>\n",
       "  </tbody>\n",
       "</table>\n",
       "</div>"
      ],
      "text/plain": [
       "   Score  Scored by  Popularity Rank  Rating Rank  Members  \\\n",
       "0   8.55     389305               32          842   653763   \n",
       "1   8.54     390598               32          872   656161   \n",
       "2   8.54     392776               32          882   660222   \n",
       "3   8.54     394764               32          902   663864   \n",
       "4   8.54     396607               32          892   667388   \n",
       "\n",
       "                                                Date   timestamp  \n",
       "0  Sat Dec 30 2017 13:55:07 GMT-0500 (Eastern Sta...  1514624107  \n",
       "1  Thu Jan 04 2018 01:00:54 GMT-0500 (Eastern Sta...  1515009654  \n",
       "2  Thu Jan 11 2018 01:33:03 GMT-0500 (Eastern Sta...  1515616383  \n",
       "3  Thu Jan 18 2018 02:15:08 GMT-0500 (Eastern Sta...  1516223708  \n",
       "4  Thu Jan 25 2018 16:09:50 GMT-0500 (Eastern Sta...  1516878590  "
      ]
     },
     "execution_count": 46,
     "metadata": {},
     "output_type": "execute_result"
    }
   ],
   "source": [
    "op_data.head()"
   ]
  },
  {
   "cell_type": "code",
   "execution_count": 47,
   "id": "ab1c9608",
   "metadata": {},
   "outputs": [
    {
     "name": "stdout",
     "output_type": "stream",
     "text": [
      "broke at 1239\n",
      "1085\n"
     ]
    },
    {
     "name": "stderr",
     "output_type": "stream",
     "text": [
      "/var/folders/vz/wcr8_9tj1bvb6_3yp7t72tx00000gn/T/ipykernel_10094/2239852325.py:33: SettingWithCopyWarning: \n",
      "A value is trying to be set on a copy of a slice from a DataFrame.\n",
      "Try using .loc[row_indexer,col_indexer] = value instead\n",
      "\n",
      "See the caveats in the documentation: https://pandas.pydata.org/pandas-docs/stable/user_guide/indexing.html#returning-a-view-versus-a-copy\n",
      "  sliced_data[\"Rank\"]=aligned_scores\n"
     ]
    },
    {
     "data": {
      "text/html": [
       "<div>\n",
       "<style scoped>\n",
       "    .dataframe tbody tr th:only-of-type {\n",
       "        vertical-align: middle;\n",
       "    }\n",
       "\n",
       "    .dataframe tbody tr th {\n",
       "        vertical-align: top;\n",
       "    }\n",
       "\n",
       "    .dataframe thead th {\n",
       "        text-align: right;\n",
       "    }\n",
       "</style>\n",
       "<table border=\"1\" class=\"dataframe\">\n",
       "  <thead>\n",
       "    <tr style=\"text-align: right;\">\n",
       "      <th></th>\n",
       "      <th>Date</th>\n",
       "      <th>Open</th>\n",
       "      <th>High</th>\n",
       "      <th>Low</th>\n",
       "      <th>Close</th>\n",
       "      <th>Adj Close</th>\n",
       "      <th>Volume</th>\n",
       "      <th>timestamp</th>\n",
       "      <th>shifted_adj_close</th>\n",
       "      <th>Log Returns</th>\n",
       "      <th>Rank</th>\n",
       "    </tr>\n",
       "  </thead>\n",
       "  <tbody>\n",
       "    <tr>\n",
       "      <th>154</th>\n",
       "      <td>2018-01-01</td>\n",
       "      <td>3666.666748</td>\n",
       "      <td>3666.666748</td>\n",
       "      <td>3666.666748</td>\n",
       "      <td>3666.666748</td>\n",
       "      <td>3373.688232</td>\n",
       "      <td>0</td>\n",
       "      <td>1514786400</td>\n",
       "      <td>3373.688232</td>\n",
       "      <td>0.000000</td>\n",
       "      <td>842</td>\n",
       "    </tr>\n",
       "    <tr>\n",
       "      <th>155</th>\n",
       "      <td>2018-01-02</td>\n",
       "      <td>3666.666748</td>\n",
       "      <td>3666.666748</td>\n",
       "      <td>3666.666748</td>\n",
       "      <td>3666.666748</td>\n",
       "      <td>3373.688232</td>\n",
       "      <td>0</td>\n",
       "      <td>1514872800</td>\n",
       "      <td>3373.688232</td>\n",
       "      <td>0.000000</td>\n",
       "      <td>842</td>\n",
       "    </tr>\n",
       "    <tr>\n",
       "      <th>156</th>\n",
       "      <td>2018-01-03</td>\n",
       "      <td>3666.666748</td>\n",
       "      <td>3666.666748</td>\n",
       "      <td>3666.666748</td>\n",
       "      <td>3666.666748</td>\n",
       "      <td>3373.688232</td>\n",
       "      <td>0</td>\n",
       "      <td>1514959200</td>\n",
       "      <td>3373.688232</td>\n",
       "      <td>0.000000</td>\n",
       "      <td>842</td>\n",
       "    </tr>\n",
       "    <tr>\n",
       "      <th>157</th>\n",
       "      <td>2018-01-04</td>\n",
       "      <td>3666.666748</td>\n",
       "      <td>3730.000000</td>\n",
       "      <td>3646.666748</td>\n",
       "      <td>3646.666748</td>\n",
       "      <td>3355.286133</td>\n",
       "      <td>11400</td>\n",
       "      <td>1515045600</td>\n",
       "      <td>3373.688232</td>\n",
       "      <td>0.005470</td>\n",
       "      <td>872</td>\n",
       "    </tr>\n",
       "    <tr>\n",
       "      <th>158</th>\n",
       "      <td>2018-01-05</td>\n",
       "      <td>3650.000000</td>\n",
       "      <td>3676.666748</td>\n",
       "      <td>3626.666748</td>\n",
       "      <td>3676.666748</td>\n",
       "      <td>3382.888916</td>\n",
       "      <td>10800</td>\n",
       "      <td>1515132000</td>\n",
       "      <td>3355.286133</td>\n",
       "      <td>-0.008193</td>\n",
       "      <td>872</td>\n",
       "    </tr>\n",
       "  </tbody>\n",
       "</table>\n",
       "</div>"
      ],
      "text/plain": [
       "           Date         Open         High          Low        Close  \\\n",
       "154  2018-01-01  3666.666748  3666.666748  3666.666748  3666.666748   \n",
       "155  2018-01-02  3666.666748  3666.666748  3666.666748  3666.666748   \n",
       "156  2018-01-03  3666.666748  3666.666748  3666.666748  3666.666748   \n",
       "157  2018-01-04  3666.666748  3730.000000  3646.666748  3646.666748   \n",
       "158  2018-01-05  3650.000000  3676.666748  3626.666748  3676.666748   \n",
       "\n",
       "       Adj Close  Volume   timestamp  shifted_adj_close  Log Returns  Rank  \n",
       "154  3373.688232       0  1514786400        3373.688232     0.000000   842  \n",
       "155  3373.688232       0  1514872800        3373.688232     0.000000   842  \n",
       "156  3373.688232       0  1514959200        3373.688232     0.000000   842  \n",
       "157  3355.286133   11400  1515045600        3373.688232     0.005470   872  \n",
       "158  3382.888916   10800  1515132000        3355.286133    -0.008193   872  "
      ]
     },
     "execution_count": 47,
     "metadata": {},
     "output_type": "execute_result"
    }
   ],
   "source": [
    "j=0\n",
    "good_indices = []\n",
    "stock_offset = 0\n",
    "aligned_scores = []\n",
    "ended = -1\n",
    "for i in range(len(stock_data[\"timestamp\"])):\n",
    "    cur_time = stock_data[\"timestamp\"][i]\n",
    "    prev_time = cur_time-86400\n",
    "\n",
    "    while cur_time>op_data[\"timestamp\"][j]:\n",
    "        j+=1\n",
    "        if j==len(op_data[\"timestamp\"]):\n",
    "            ended = i                \n",
    "            break\n",
    "    \n",
    "    if ended>0:\n",
    "        print(\"broke at\", i)\n",
    "        break\n",
    "\n",
    "    if j==0:\n",
    "        stock_offset = i\n",
    "        continue\n",
    "\n",
    "    op_time = op_data[\"timestamp\"][j-1]\n",
    "\n",
    "    aligned_scores.append(op_data[\"Rating Rank\"][j-1])\n",
    "    good_indices.append(j-1)\n",
    "\n",
    "\n",
    "print(len(aligned_scores))\n",
    "\n",
    "sliced_data = stock_data[stock_offset+1:ended]\n",
    "sliced_data[\"Rank\"]=aligned_scores\n",
    "sliced_data.head()\n"
   ]
  },
  {
   "cell_type": "code",
   "execution_count": 51,
   "id": "3f332429",
   "metadata": {},
   "outputs": [
    {
     "data": {
      "text/html": [
       "<div>\n",
       "<style scoped>\n",
       "    .dataframe tbody tr th:only-of-type {\n",
       "        vertical-align: middle;\n",
       "    }\n",
       "\n",
       "    .dataframe tbody tr th {\n",
       "        vertical-align: top;\n",
       "    }\n",
       "\n",
       "    .dataframe thead th {\n",
       "        text-align: right;\n",
       "    }\n",
       "</style>\n",
       "<table border=\"1\" class=\"dataframe\">\n",
       "  <thead>\n",
       "    <tr style=\"text-align: right;\">\n",
       "      <th></th>\n",
       "      <th>Date</th>\n",
       "      <th>Adj Close</th>\n",
       "      <th>Volume</th>\n",
       "      <th>timestamp</th>\n",
       "      <th>Log Returns</th>\n",
       "      <th>Rank</th>\n",
       "    </tr>\n",
       "  </thead>\n",
       "  <tbody>\n",
       "    <tr>\n",
       "      <th>154</th>\n",
       "      <td>2018-01-01</td>\n",
       "      <td>3373.688232</td>\n",
       "      <td>0</td>\n",
       "      <td>1514786400</td>\n",
       "      <td>0.000000</td>\n",
       "      <td>842</td>\n",
       "    </tr>\n",
       "    <tr>\n",
       "      <th>155</th>\n",
       "      <td>2018-01-02</td>\n",
       "      <td>3373.688232</td>\n",
       "      <td>0</td>\n",
       "      <td>1514872800</td>\n",
       "      <td>0.000000</td>\n",
       "      <td>842</td>\n",
       "    </tr>\n",
       "    <tr>\n",
       "      <th>156</th>\n",
       "      <td>2018-01-03</td>\n",
       "      <td>3373.688232</td>\n",
       "      <td>0</td>\n",
       "      <td>1514959200</td>\n",
       "      <td>0.000000</td>\n",
       "      <td>842</td>\n",
       "    </tr>\n",
       "    <tr>\n",
       "      <th>157</th>\n",
       "      <td>2018-01-04</td>\n",
       "      <td>3355.286133</td>\n",
       "      <td>11400</td>\n",
       "      <td>1515045600</td>\n",
       "      <td>0.005470</td>\n",
       "      <td>872</td>\n",
       "    </tr>\n",
       "    <tr>\n",
       "      <th>158</th>\n",
       "      <td>2018-01-05</td>\n",
       "      <td>3382.888916</td>\n",
       "      <td>10800</td>\n",
       "      <td>1515132000</td>\n",
       "      <td>-0.008193</td>\n",
       "      <td>872</td>\n",
       "    </tr>\n",
       "  </tbody>\n",
       "</table>\n",
       "</div>"
      ],
      "text/plain": [
       "           Date    Adj Close  Volume   timestamp  Log Returns  Rank\n",
       "154  2018-01-01  3373.688232       0  1514786400     0.000000   842\n",
       "155  2018-01-02  3373.688232       0  1514872800     0.000000   842\n",
       "156  2018-01-03  3373.688232       0  1514959200     0.000000   842\n",
       "157  2018-01-04  3355.286133   11400  1515045600     0.005470   872\n",
       "158  2018-01-05  3382.888916   10800  1515132000    -0.008193   872"
      ]
     },
     "execution_count": 51,
     "metadata": {},
     "output_type": "execute_result"
    }
   ],
   "source": [
    "# del stock_data['timestamp']\n",
    "del sliced_data['shifted_adj_close']\n",
    "del sliced_data['Close']\n",
    "del sliced_data['Low']\n",
    "del sliced_data['High']\n",
    "del sliced_data['Open']\n"
   ]
  },
  {
   "cell_type": "code",
   "execution_count": 57,
   "id": "e3dcc78b",
   "metadata": {},
   "outputs": [
    {
     "name": "stderr",
     "output_type": "stream",
     "text": [
      "/var/folders/vz/wcr8_9tj1bvb6_3yp7t72tx00000gn/T/ipykernel_10094/2070497468.py:1: SettingWithCopyWarning: \n",
      "A value is trying to be set on a copy of a slice from a DataFrame.\n",
      "Try using .loc[row_indexer,col_indexer] = value instead\n",
      "\n",
      "See the caveats in the documentation: https://pandas.pydata.org/pandas-docs/stable/user_guide/indexing.html#returning-a-view-versus-a-copy\n",
      "  sliced_data[\"Adj Rank\"]=np.log(sliced_data[\"Rank\"])\n"
     ]
    }
   ],
   "source": [
    "sliced_data[\"Adj Rank\"]=np.log(sliced_data[\"Rank\"])"
   ]
  },
  {
   "cell_type": "code",
   "execution_count": 58,
   "id": "cc4c262a",
   "metadata": {},
   "outputs": [
    {
     "data": {
      "text/plain": [
       "<AxesSubplot:xlabel='Date'>"
      ]
     },
     "execution_count": 58,
     "metadata": {},
     "output_type": "execute_result"
    },
    {
     "data": {
      "image/png": "[encoded data removed]",
      "text/plain": [
       "<Figure size 432x288 with 1 Axes>"
      ]
     },
     "metadata": {
      "needs_background": "light"
     },
     "output_type": "display_data"
    }
   ],
   "source": [
    "sliced_data.plot(x=\"Date\", y=\"Adj Rank\")"
   ]
  },
  {
   "cell_type": "code",
   "execution_count": 60,
   "id": "d435012a",
   "metadata": {},
   "outputs": [
    {
     "data": {
      "text/html": [
       "<div>\n",
       "<style scoped>\n",
       "    .dataframe tbody tr th:only-of-type {\n",
       "        vertical-align: middle;\n",
       "    }\n",
       "\n",
       "    .dataframe tbody tr th {\n",
       "        vertical-align: top;\n",
       "    }\n",
       "\n",
       "    .dataframe thead th {\n",
       "        text-align: right;\n",
       "    }\n",
       "</style>\n",
       "<table border=\"1\" class=\"dataframe\">\n",
       "  <thead>\n",
       "    <tr style=\"text-align: right;\">\n",
       "      <th></th>\n",
       "      <th>Date</th>\n",
       "      <th>Adj Close</th>\n",
       "      <th>Volume</th>\n",
       "      <th>timestamp</th>\n",
       "      <th>Log Returns</th>\n",
       "      <th>Rank</th>\n",
       "      <th>Adj Rank</th>\n",
       "    </tr>\n",
       "  </thead>\n",
       "  <tbody>\n",
       "    <tr>\n",
       "      <th>154</th>\n",
       "      <td>2018-01-01</td>\n",
       "      <td>3373.688232</td>\n",
       "      <td>0</td>\n",
       "      <td>1514786400</td>\n",
       "      <td>0.000000</td>\n",
       "      <td>842</td>\n",
       "      <td>6.735780</td>\n",
       "    </tr>\n",
       "    <tr>\n",
       "      <th>155</th>\n",
       "      <td>2018-01-02</td>\n",
       "      <td>3373.688232</td>\n",
       "      <td>0</td>\n",
       "      <td>1514872800</td>\n",
       "      <td>0.000000</td>\n",
       "      <td>842</td>\n",
       "      <td>6.735780</td>\n",
       "    </tr>\n",
       "    <tr>\n",
       "      <th>156</th>\n",
       "      <td>2018-01-03</td>\n",
       "      <td>3373.688232</td>\n",
       "      <td>0</td>\n",
       "      <td>1514959200</td>\n",
       "      <td>0.000000</td>\n",
       "      <td>842</td>\n",
       "      <td>6.735780</td>\n",
       "    </tr>\n",
       "    <tr>\n",
       "      <th>157</th>\n",
       "      <td>2018-01-04</td>\n",
       "      <td>3355.286133</td>\n",
       "      <td>11400</td>\n",
       "      <td>1515045600</td>\n",
       "      <td>0.005470</td>\n",
       "      <td>872</td>\n",
       "      <td>6.770789</td>\n",
       "    </tr>\n",
       "    <tr>\n",
       "      <th>158</th>\n",
       "      <td>2018-01-05</td>\n",
       "      <td>3382.888916</td>\n",
       "      <td>10800</td>\n",
       "      <td>1515132000</td>\n",
       "      <td>-0.008193</td>\n",
       "      <td>872</td>\n",
       "      <td>6.770789</td>\n",
       "    </tr>\n",
       "  </tbody>\n",
       "</table>\n",
       "</div>"
      ],
      "text/plain": [
       "           Date    Adj Close  Volume   timestamp  Log Returns  Rank  Adj Rank\n",
       "154  2018-01-01  3373.688232       0  1514786400     0.000000   842  6.735780\n",
       "155  2018-01-02  3373.688232       0  1514872800     0.000000   842  6.735780\n",
       "156  2018-01-03  3373.688232       0  1514959200     0.000000   842  6.735780\n",
       "157  2018-01-04  3355.286133   11400  1515045600     0.005470   872  6.770789\n",
       "158  2018-01-05  3382.888916   10800  1515132000    -0.008193   872  6.770789"
      ]
     },
     "execution_count": 60,
     "metadata": {},
     "output_type": "execute_result"
    }
   ],
   "source": [
    "sliced_data.head()"
   ]
  },
  {
   "cell_type": "code",
   "execution_count": 62,
   "id": "0c7a655c",
   "metadata": {},
   "outputs": [],
   "source": [
    "sliced_data.to_csv(\"processed_data.csv\", index=False)"
   ]
  },
  {
   "cell_type": "code",
   "execution_count": null,
   "id": "a1c20ebf",
   "metadata": {},
   "outputs": [],
   "source": []
  }
 ],
 "metadata": {
  "kernelspec": {
   "display_name": "Python 3 (ipykernel)",
   "language": "python",
   "name": "python3"
  },
  "language_info": {
   "codemirror_mode": {
    "name": "ipython",
    "version": 3
   },
   "file_extension": ".py",
   "mimetype": "text/x-python",
   "name": "python",
   "nbconvert_exporter": "python",
   "pygments_lexer": "ipython3",
   "version": "3.9.13"
  }
 },
 "nbformat": 4,
 "nbformat_minor": 5
}
