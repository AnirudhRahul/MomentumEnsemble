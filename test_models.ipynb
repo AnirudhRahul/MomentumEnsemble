{
 "cells": [
  {
   "cell_type": "code",
   "execution_count": 4,
   "id": "2fb0e6a5",
   "metadata": {},
   "outputs": [],
   "source": [
    "from keras.models import load_model\n",
    "import pandas as pd\n",
    "import numpy as np"
   ]
  },
  {
   "cell_type": "code",
   "execution_count": 43,
   "id": "199edb23",
   "metadata": {},
   "outputs": [],
   "source": [
    "model = load_model('model4_single')\n"
   ]
  },
  {
   "cell_type": "code",
   "execution_count": 44,
   "id": "16f9fe6e",
   "metadata": {},
   "outputs": [
    {
     "name": "stdout",
     "output_type": "stream",
     "text": [
      "5417\n"
     ]
    }
   ],
   "source": [
    "df = pd.read_csv('./processed_data.csv')\n",
    "print(len(df))"
   ]
  },
  {
   "cell_type": "code",
   "execution_count": 45,
   "id": "0fb1f1ce",
   "metadata": {},
   "outputs": [
    {
     "data": {
      "text/html": [
       "<div>\n",
       "<style scoped>\n",
       "    .dataframe tbody tr th:only-of-type {\n",
       "        vertical-align: middle;\n",
       "    }\n",
       "\n",
       "    .dataframe tbody tr th {\n",
       "        vertical-align: top;\n",
       "    }\n",
       "\n",
       "    .dataframe thead th {\n",
       "        text-align: right;\n",
       "    }\n",
       "</style>\n",
       "<table border=\"1\" class=\"dataframe\">\n",
       "  <thead>\n",
       "    <tr style=\"text-align: right;\">\n",
       "      <th></th>\n",
       "      <th>Date</th>\n",
       "      <th>Open</th>\n",
       "      <th>High</th>\n",
       "      <th>Low</th>\n",
       "      <th>Close</th>\n",
       "      <th>Adj Close</th>\n",
       "      <th>Volume</th>\n",
       "      <th>timestamp</th>\n",
       "      <th>shifted_adj_close</th>\n",
       "      <th>Adj Close Returns</th>\n",
       "      <th>SMA_50</th>\n",
       "      <th>MACD_8_21_9</th>\n",
       "      <th>MACDh_8_21_9</th>\n",
       "      <th>MACDs_8_21_9</th>\n",
       "      <th>Day Delta</th>\n",
       "    </tr>\n",
       "  </thead>\n",
       "  <tbody>\n",
       "    <tr>\n",
       "      <th>0</th>\n",
       "      <td>2000-12-08</td>\n",
       "      <td>666.666687</td>\n",
       "      <td>715.000000</td>\n",
       "      <td>633.333313</td>\n",
       "      <td>680.000000</td>\n",
       "      <td>562.626587</td>\n",
       "      <td>6696000</td>\n",
       "      <td>976255200</td>\n",
       "      <td>562.626587</td>\n",
       "      <td>1.000000</td>\n",
       "      <td>NaN</td>\n",
       "      <td>NaN</td>\n",
       "      <td>NaN</td>\n",
       "      <td>NaN</td>\n",
       "      <td>3.0</td>\n",
       "    </tr>\n",
       "    <tr>\n",
       "      <th>1</th>\n",
       "      <td>2000-12-11</td>\n",
       "      <td>675.000000</td>\n",
       "      <td>680.000000</td>\n",
       "      <td>580.000000</td>\n",
       "      <td>580.000000</td>\n",
       "      <td>479.887451</td>\n",
       "      <td>1272000</td>\n",
       "      <td>976514400</td>\n",
       "      <td>562.626587</td>\n",
       "      <td>1.172414</td>\n",
       "      <td>NaN</td>\n",
       "      <td>NaN</td>\n",
       "      <td>NaN</td>\n",
       "      <td>NaN</td>\n",
       "      <td>1.0</td>\n",
       "    </tr>\n",
       "    <tr>\n",
       "      <th>2</th>\n",
       "      <td>2000-12-12</td>\n",
       "      <td>575.000000</td>\n",
       "      <td>621.666687</td>\n",
       "      <td>571.666687</td>\n",
       "      <td>591.666687</td>\n",
       "      <td>489.540344</td>\n",
       "      <td>1068000</td>\n",
       "      <td>976600800</td>\n",
       "      <td>479.887451</td>\n",
       "      <td>0.980282</td>\n",
       "      <td>NaN</td>\n",
       "      <td>NaN</td>\n",
       "      <td>NaN</td>\n",
       "      <td>NaN</td>\n",
       "      <td>1.0</td>\n",
       "    </tr>\n",
       "    <tr>\n",
       "      <th>3</th>\n",
       "      <td>2000-12-13</td>\n",
       "      <td>586.666687</td>\n",
       "      <td>608.333313</td>\n",
       "      <td>541.666687</td>\n",
       "      <td>566.666687</td>\n",
       "      <td>468.855591</td>\n",
       "      <td>552000</td>\n",
       "      <td>976687200</td>\n",
       "      <td>489.540344</td>\n",
       "      <td>1.044118</td>\n",
       "      <td>NaN</td>\n",
       "      <td>NaN</td>\n",
       "      <td>NaN</td>\n",
       "      <td>NaN</td>\n",
       "      <td>1.0</td>\n",
       "    </tr>\n",
       "    <tr>\n",
       "      <th>4</th>\n",
       "      <td>2000-12-14</td>\n",
       "      <td>561.666687</td>\n",
       "      <td>563.333313</td>\n",
       "      <td>541.666687</td>\n",
       "      <td>558.333313</td>\n",
       "      <td>461.960663</td>\n",
       "      <td>330000</td>\n",
       "      <td>976773600</td>\n",
       "      <td>468.855591</td>\n",
       "      <td>1.014925</td>\n",
       "      <td>NaN</td>\n",
       "      <td>NaN</td>\n",
       "      <td>NaN</td>\n",
       "      <td>NaN</td>\n",
       "      <td>1.0</td>\n",
       "    </tr>\n",
       "  </tbody>\n",
       "</table>\n",
       "</div>"
      ],
      "text/plain": [
       "         Date        Open        High         Low       Close   Adj Close  \\\n",
       "0  2000-12-08  666.666687  715.000000  633.333313  680.000000  562.626587   \n",
       "1  2000-12-11  675.000000  680.000000  580.000000  580.000000  479.887451   \n",
       "2  2000-12-12  575.000000  621.666687  571.666687  591.666687  489.540344   \n",
       "3  2000-12-13  586.666687  608.333313  541.666687  566.666687  468.855591   \n",
       "4  2000-12-14  561.666687  563.333313  541.666687  558.333313  461.960663   \n",
       "\n",
       "    Volume  timestamp  shifted_adj_close  Adj Close Returns  SMA_50  \\\n",
       "0  6696000  976255200         562.626587           1.000000     NaN   \n",
       "1  1272000  976514400         562.626587           1.172414     NaN   \n",
       "2  1068000  976600800         479.887451           0.980282     NaN   \n",
       "3   552000  976687200         489.540344           1.044118     NaN   \n",
       "4   330000  976773600         468.855591           1.014925     NaN   \n",
       "\n",
       "   MACD_8_21_9  MACDh_8_21_9  MACDs_8_21_9  Day Delta  \n",
       "0          NaN           NaN           NaN        3.0  \n",
       "1          NaN           NaN           NaN        1.0  \n",
       "2          NaN           NaN           NaN        1.0  \n",
       "3          NaN           NaN           NaN        1.0  \n",
       "4          NaN           NaN           NaN        1.0  "
      ]
     },
     "execution_count": 45,
     "metadata": {},
     "output_type": "execute_result"
    }
   ],
   "source": [
    "df.head()"
   ]
  },
  {
   "cell_type": "code",
   "execution_count": 46,
   "id": "81a78386",
   "metadata": {},
   "outputs": [
    {
     "name": "stdout",
     "output_type": "stream",
     "text": [
      "Model: \"sequential_278\"\n",
      "_________________________________________________________________\n",
      " Layer (type)                Output Shape              Param #   \n",
      "=================================================================\n",
      " conv1d_167 (Conv1D)         (None, 98, 64)            640       \n",
      "                                                                 \n",
      " bidirectional_142 (Bidirect  (None, 98, 64)           24832     \n",
      " ional)                                                          \n",
      "                                                                 \n",
      " conv1d_168 (Conv1D)         (None, 96, 32)            6176      \n",
      "                                                                 \n",
      " flatten_48 (Flatten)        (None, 3072)              0         \n",
      "                                                                 \n",
      " dense_217 (Dense)           (None, 1)                 3073      \n",
      "                                                                 \n",
      "=================================================================\n",
      "Total params: 34,721\n",
      "Trainable params: 34,721\n",
      "Non-trainable params: 0\n",
      "_________________________________________________________________\n"
     ]
    }
   ],
   "source": [
    "model.summary()"
   ]
  },
  {
   "cell_type": "code",
   "execution_count": 57,
   "id": "9542a68c",
   "metadata": {},
   "outputs": [],
   "source": [
    "look_back = 100\n",
    "def create_dataset(returns, volume):\n",
    "    dataX, dataY = [], []\n",
    "    for i in range(0, len(returns)-look_back-1):\n",
    "        a = np.vstack([\n",
    "            returns[i:i+look_back],\n",
    "            volume[i:i+look_back]/50000,\n",
    "            returns[i:i+look_back]*0+1,\n",
    "#             MovingAvg[i:i+look_back]/MovingAvg[i]\n",
    "#             np.where(MACDh[i:i+look_back] > MACDs[i:i+look_back],1,-1),\n",
    "#             dayDelta[i:i+look_back],\n",
    "#             scaler*Open[i:i+look_back],\n",
    "#             scaler*Low[i:i+look_back],\n",
    "#             scaler*High[i:i+look_back],\n",
    "#             scaler*AdjClose[i:i+look_back],\n",
    "        ]).T\n",
    "        dataX.append(a)\n",
    "        dataY.append(returns[i + look_back])\n",
    "    return np.array(dataX), np.array(dataY)"
   ]
  },
  {
   "cell_type": "code",
   "execution_count": 58,
   "id": "ffecaf26",
   "metadata": {},
   "outputs": [],
   "source": [
    "multiX, dataY = create_dataset(df[\"Adj Close Returns\"].to_numpy(), df[\"Volume\"].to_numpy())\n"
   ]
  },
  {
   "cell_type": "code",
   "execution_count": 59,
   "id": "56cbb192",
   "metadata": {},
   "outputs": [
    {
     "name": "stdout",
     "output_type": "stream",
     "text": [
      "167/167 [==============================] - 1s 7ms/step\n"
     ]
    },
    {
     "data": {
      "text/plain": [
       "array([[1.0166743 ],\n",
       "       [0.99881047],\n",
       "       [1.0147548 ],\n",
       "       ...,\n",
       "       [0.983155  ],\n",
       "       [0.9771622 ],\n",
       "       [0.9725248 ]], dtype=float32)"
      ]
     },
     "execution_count": 59,
     "metadata": {},
     "output_type": "execute_result"
    }
   ],
   "source": [
    "model.predict(multiX)"
   ]
  },
  {
   "cell_type": "code",
   "execution_count": 60,
   "id": "523f0c94",
   "metadata": {},
   "outputs": [
    {
     "data": {
      "text/plain": [
       "array([0.97709927, 1.        , 1.        , ..., 0.96092504, 1.0032    ,\n",
       "       1.01461039])"
      ]
     },
     "execution_count": 60,
     "metadata": {},
     "output_type": "execute_result"
    }
   ],
   "source": [
    "dataY"
   ]
  },
  {
   "cell_type": "code",
   "execution_count": 61,
   "id": "68b2f57d",
   "metadata": {},
   "outputs": [
    {
     "name": "stdout",
     "output_type": "stream",
     "text": [
      "167/167 [==============================] - 1s 7ms/step\n"
     ]
    }
   ],
   "source": [
    "res = pd.DataFrame(data=dataY, columns=[\"target\"])\n",
    "res[\"predict\"] = model.predict(multiX)"
   ]
  },
  {
   "cell_type": "code",
   "execution_count": 62,
   "id": "26b935ae",
   "metadata": {},
   "outputs": [
    {
     "data": {
      "text/plain": [
       "<AxesSubplot:>"
      ]
     },
     "execution_count": 62,
     "metadata": {},
     "output_type": "execute_result"
    },
    {
     "data": {
      "image/png": "[encoded data removed]",
      "text/plain": [
       "<Figure size 432x288 with 1 Axes>"
      ]
     },
     "metadata": {
      "needs_background": "light"
     },
     "output_type": "display_data"
    }
   ],
   "source": [
    "res.plot()"
   ]
  },
  {
   "cell_type": "code",
   "execution_count": 63,
   "id": "aecb849b",
   "metadata": {},
   "outputs": [],
   "source": [
    "def sign_score(listA, listB):\n",
    "    if len(listA) != len(listB):\n",
    "        raise \"Lists must be the same length\"\n",
    "    return np.sum(np.where(listA*listB>0,1,0))/len(listA)\n"
   ]
  },
  {
   "cell_type": "code",
   "execution_count": 64,
   "id": "e1ee8cf1",
   "metadata": {},
   "outputs": [
    {
     "data": {
      "text/plain": [
       "0.481941309255079"
      ]
     },
     "execution_count": 64,
     "metadata": {},
     "output_type": "execute_result"
    }
   ],
   "source": [
    "sign_score(res[\"target\"].to_numpy()-1, res[\"predict\"].to_numpy()-1)"
   ]
  },
  {
   "cell_type": "code",
   "execution_count": null,
   "id": "22c796eb",
   "metadata": {},
   "outputs": [],
   "source": []
  },
  {
   "cell_type": "code",
   "execution_count": null,
   "id": "4dadb75c",
   "metadata": {},
   "outputs": [],
   "source": []
  }
 ],
 "metadata": {
  "kernelspec": {
   "display_name": "Python 3 (ipykernel)",
   "language": "python",
   "name": "python3"
  },
  "language_info": {
   "codemirror_mode": {
    "name": "ipython",
    "version": 3
   },
   "file_extension": ".py",
   "mimetype": "text/x-python",
   "name": "python",
   "nbconvert_exporter": "python",
   "pygments_lexer": "ipython3",
   "version": "3.9.13"
  }
 },
 "nbformat": 4,
 "nbformat_minor": 5
}
