{
 "cells": [
  {
   "cell_type": "code",
   "execution_count": 1205,
   "id": "c256afef",
   "metadata": {},
   "outputs": [],
   "source": [
    "import pandas as pd\n",
    "import numpy as np\n",
    "import tensorflow as tf\n",
    "from tensorflow.keras.models import Sequential\n",
    "from tensorflow.python.keras.layers import Dense\n",
    "from tensorflow.python.keras.layers.recurrent import LSTM,GRU\n",
    "from tensorflow.keras import Input\n",
    "from pmdarima.arima import auto_arima\n",
    "# For creating model and training\n",
    "from tensorflow.keras.layers import Conv1D, Conv2D,ConvLSTM1D, LSTM, Dense, Dropout, Bidirectional, Concatenate, MultiHeadAttention\n",
    "from tensorflow.keras.layers import MaxPooling1D, Flatten, Reshape\n",
    "from tensorflow.keras.regularizers import L1, L2\n",
    "from tensorflow.keras.metrics import Accuracy\n",
    "from tensorflow.keras.metrics import RootMeanSquaredError\n",
    "from keras.models import Model\n",
    "from keras import backend as K\n"
   ]
  },
  {
   "cell_type": "code",
   "execution_count": 1165,
   "id": "4b5b94aa",
   "metadata": {},
   "outputs": [
    {
     "name": "stdout",
     "output_type": "stream",
     "text": [
      "5417\n"
     ]
    }
   ],
   "source": [
    "df = pd.read_csv('./processed_data.csv')\n",
    "print(len(df))"
   ]
  },
  {
   "cell_type": "code",
   "execution_count": 1166,
   "id": "b6ee836e",
   "metadata": {},
   "outputs": [
    {
     "data": {
      "text/html": [
       "<div>\n",
       "<style scoped>\n",
       "    .dataframe tbody tr th:only-of-type {\n",
       "        vertical-align: middle;\n",
       "    }\n",
       "\n",
       "    .dataframe tbody tr th {\n",
       "        vertical-align: top;\n",
       "    }\n",
       "\n",
       "    .dataframe thead th {\n",
       "        text-align: right;\n",
       "    }\n",
       "</style>\n",
       "<table border=\"1\" class=\"dataframe\">\n",
       "  <thead>\n",
       "    <tr style=\"text-align: right;\">\n",
       "      <th></th>\n",
       "      <th>Date</th>\n",
       "      <th>Open</th>\n",
       "      <th>High</th>\n",
       "      <th>Low</th>\n",
       "      <th>Close</th>\n",
       "      <th>Adj Close</th>\n",
       "      <th>Volume</th>\n",
       "      <th>timestamp</th>\n",
       "      <th>shifted_adj_close</th>\n",
       "      <th>Adj Close Returns</th>\n",
       "      <th>SMA_50</th>\n",
       "      <th>MACD_8_21_9</th>\n",
       "      <th>MACDh_8_21_9</th>\n",
       "      <th>MACDs_8_21_9</th>\n",
       "      <th>Day Delta</th>\n",
       "    </tr>\n",
       "  </thead>\n",
       "  <tbody>\n",
       "    <tr>\n",
       "      <th>0</th>\n",
       "      <td>2000-12-08</td>\n",
       "      <td>666.666687</td>\n",
       "      <td>715.000000</td>\n",
       "      <td>633.333313</td>\n",
       "      <td>680.000000</td>\n",
       "      <td>562.626587</td>\n",
       "      <td>6696000</td>\n",
       "      <td>976255200</td>\n",
       "      <td>562.626587</td>\n",
       "      <td>1.000000</td>\n",
       "      <td>NaN</td>\n",
       "      <td>NaN</td>\n",
       "      <td>NaN</td>\n",
       "      <td>NaN</td>\n",
       "      <td>3.0</td>\n",
       "    </tr>\n",
       "    <tr>\n",
       "      <th>1</th>\n",
       "      <td>2000-12-11</td>\n",
       "      <td>675.000000</td>\n",
       "      <td>680.000000</td>\n",
       "      <td>580.000000</td>\n",
       "      <td>580.000000</td>\n",
       "      <td>479.887451</td>\n",
       "      <td>1272000</td>\n",
       "      <td>976514400</td>\n",
       "      <td>562.626587</td>\n",
       "      <td>1.172414</td>\n",
       "      <td>NaN</td>\n",
       "      <td>NaN</td>\n",
       "      <td>NaN</td>\n",
       "      <td>NaN</td>\n",
       "      <td>1.0</td>\n",
       "    </tr>\n",
       "    <tr>\n",
       "      <th>2</th>\n",
       "      <td>2000-12-12</td>\n",
       "      <td>575.000000</td>\n",
       "      <td>621.666687</td>\n",
       "      <td>571.666687</td>\n",
       "      <td>591.666687</td>\n",
       "      <td>489.540344</td>\n",
       "      <td>1068000</td>\n",
       "      <td>976600800</td>\n",
       "      <td>479.887451</td>\n",
       "      <td>0.980282</td>\n",
       "      <td>NaN</td>\n",
       "      <td>NaN</td>\n",
       "      <td>NaN</td>\n",
       "      <td>NaN</td>\n",
       "      <td>1.0</td>\n",
       "    </tr>\n",
       "    <tr>\n",
       "      <th>3</th>\n",
       "      <td>2000-12-13</td>\n",
       "      <td>586.666687</td>\n",
       "      <td>608.333313</td>\n",
       "      <td>541.666687</td>\n",
       "      <td>566.666687</td>\n",
       "      <td>468.855591</td>\n",
       "      <td>552000</td>\n",
       "      <td>976687200</td>\n",
       "      <td>489.540344</td>\n",
       "      <td>1.044118</td>\n",
       "      <td>NaN</td>\n",
       "      <td>NaN</td>\n",
       "      <td>NaN</td>\n",
       "      <td>NaN</td>\n",
       "      <td>1.0</td>\n",
       "    </tr>\n",
       "    <tr>\n",
       "      <th>4</th>\n",
       "      <td>2000-12-14</td>\n",
       "      <td>561.666687</td>\n",
       "      <td>563.333313</td>\n",
       "      <td>541.666687</td>\n",
       "      <td>558.333313</td>\n",
       "      <td>461.960663</td>\n",
       "      <td>330000</td>\n",
       "      <td>976773600</td>\n",
       "      <td>468.855591</td>\n",
       "      <td>1.014925</td>\n",
       "      <td>NaN</td>\n",
       "      <td>NaN</td>\n",
       "      <td>NaN</td>\n",
       "      <td>NaN</td>\n",
       "      <td>1.0</td>\n",
       "    </tr>\n",
       "  </tbody>\n",
       "</table>\n",
       "</div>"
      ],
      "text/plain": [
       "         Date        Open        High         Low       Close   Adj Close  \\\n",
       "0  2000-12-08  666.666687  715.000000  633.333313  680.000000  562.626587   \n",
       "1  2000-12-11  675.000000  680.000000  580.000000  580.000000  479.887451   \n",
       "2  2000-12-12  575.000000  621.666687  571.666687  591.666687  489.540344   \n",
       "3  2000-12-13  586.666687  608.333313  541.666687  566.666687  468.855591   \n",
       "4  2000-12-14  561.666687  563.333313  541.666687  558.333313  461.960663   \n",
       "\n",
       "    Volume  timestamp  shifted_adj_close  Adj Close Returns  SMA_50  \\\n",
       "0  6696000  976255200         562.626587           1.000000     NaN   \n",
       "1  1272000  976514400         562.626587           1.172414     NaN   \n",
       "2  1068000  976600800         479.887451           0.980282     NaN   \n",
       "3   552000  976687200         489.540344           1.044118     NaN   \n",
       "4   330000  976773600         468.855591           1.014925     NaN   \n",
       "\n",
       "   MACD_8_21_9  MACDh_8_21_9  MACDs_8_21_9  Day Delta  \n",
       "0          NaN           NaN           NaN        3.0  \n",
       "1          NaN           NaN           NaN        1.0  \n",
       "2          NaN           NaN           NaN        1.0  \n",
       "3          NaN           NaN           NaN        1.0  \n",
       "4          NaN           NaN           NaN        1.0  "
      ]
     },
     "execution_count": 1166,
     "metadata": {},
     "output_type": "execute_result"
    }
   ],
   "source": [
    "df.head()"
   ]
  },
  {
   "cell_type": "code",
   "execution_count": 1167,
   "id": "301280c5",
   "metadata": {},
   "outputs": [
    {
     "data": {
      "text/plain": [
       "(13.189244776337183, 2373.3043667197758)"
      ]
     },
     "execution_count": 1167,
     "metadata": {},
     "output_type": "execute_result"
    }
   ],
   "source": [
    "np.mean(df[\"MACDs_8_21_9\"]), np.max(df[\"MACDs_8_21_9\"])"
   ]
  },
  {
   "cell_type": "code",
   "execution_count": 1257,
   "id": "be82bef4",
   "metadata": {},
   "outputs": [
    {
     "name": "stdout",
     "output_type": "stream",
     "text": [
      "(5200, 30, 2) (5200, 30, 2) (5200,)\n",
      "(86, 30, 2)\n",
      "(5286, 5)\n"
     ]
    }
   ],
   "source": [
    "look_back = 30\n",
    "def create_dataset(returns, volume, adj_close, MovingAvg, MACDh, MACDs):\n",
    "    dataX, dataY = [], []\n",
    "    dataAvg = []\n",
    "    for i in range(100, len(returns)-look_back-1):\n",
    "#         print(MovingAvg[i:i+look_back])\n",
    "        closeP = adj_close[i+look_back]\n",
    "        ma3 = np.average(adj_close[i+look_back-3:i+look_back])/closeP\n",
    "        ma12 = np.average(adj_close[i+look_back-12:i+look_back])/closeP\n",
    "        ma21 = np.average(adj_close[i+look_back-21:i+look_back])/closeP\n",
    "        ma30 = np.average(adj_close[i+look_back-30:i+look_back])/closeP\n",
    "        ma100 = np.average(adj_close[i+look_back-100:i+look_back])/closeP\n",
    "\n",
    "        a = np.vstack([\n",
    "            returns[i:i+look_back],\n",
    "#             MovingAvg[i:i+look_back]/MovingAvg[i]\n",
    "            np.where(MACDh[i:i+look_back] > MACDs[i:i+look_back],1,-1),\n",
    "#             dayDelta[i:i+look_back],\n",
    "#             scaler*Open[i:i+look_back],\n",
    "#             scaler*Low[i:i+look_back],\n",
    "#             scaler*High[i:i+look_back],\n",
    "#             scaler*AdjClose[i:i+look_back],\n",
    "        ]).T\n",
    "        dataX.append(a)\n",
    "        dataY.append(returns[i + look_back])\n",
    "        dataAvg.append([ma3, ma12, ma21, ma30, ma100])\n",
    "    return np.array(dataX), np.array(dataAvg), np.array(dataY)\n",
    "\n",
    "returns, dayDelta, volume = np.array(df[\"Adj Close Returns\"]), np.array(df[\"Day Delta\"]), np.array(df[\"Volume\"])/50000\n",
    "Open, High, Low, AdjClose = df[\"Open\"].to_numpy(), df[\"High\"].to_numpy(), df[\"Low\"].to_numpy(), df[\"Adj Close\"].to_numpy()\n",
    "MovingAvg = df[\"SMA_50\"].to_numpy()\n",
    "MACDh, MACDs = df[\"MACDh_8_21_9\"].to_numpy(), df[\"MACDs_8_21_9\"].to_numpy()\n",
    "adj_close = df[\"Adj Close\"].to_numpy()\n",
    "\n",
    "multiX, avgX, dataY = create_dataset(returns, volume, adj_close, MovingAvg, MACDh, MACDs)\n",
    "singleX = multiX[:,:,0:4]\n",
    "\n",
    "train_count = 5200\n",
    "\n",
    "multiX_train, multiX_test = multiX[:train_count], multiX[train_count:]\n",
    "singleX_train, singleX_test = singleX[:train_count], singleX[train_count:]\n",
    "dataY_train, dataY_test = dataY[:train_count], dataY[train_count:]\n",
    "avgX_train, avgX_test = avgX[:train_count], avgX[train_count:]\n",
    "\n",
    "print(singleX_train.shape, multiX_train.shape, dataY_train.shape)\n",
    "print(singleX_test.shape)\n",
    "print(avgX.shape)"
   ]
  },
  {
   "cell_type": "code",
   "execution_count": 1326,
   "id": "5faf0733",
   "metadata": {},
   "outputs": [],
   "source": [
    "def same_sign_index(y_true, y_pred):\n",
    "    y_prod = (y_true-1)*(y_pred-1)\n",
    "    return tf.math.count_nonzero(tf.greater(y_prod, 0), dtype=tf.dtypes.float32)/64\n",
    "mse = tf.keras.losses.MeanSquaredError()\n",
    "def custom_loss(y_true, y_pred):\n",
    "    return mse(y_true, y_pred) + 0.01*(1-same_sign_index(y_true, y_pred))"
   ]
  },
  {
   "cell_type": "code",
   "execution_count": 1327,
   "id": "eace58c3",
   "metadata": {},
   "outputs": [
    {
     "name": "stdout",
     "output_type": "stream",
     "text": [
      "Model: \"sequential_456\"\n",
      "_________________________________________________________________\n",
      " Layer (type)                Output Shape              Param #   \n",
      "=================================================================\n",
      " bidirectional_203 (Bidirect  (None, 30, 8)            224       \n",
      " ional)                                                          \n",
      "                                                                 \n",
      " bidirectional_204 (Bidirect  (None, 64)               10496     \n",
      " ional)                                                          \n",
      "                                                                 \n",
      " flatten_109 (Flatten)       (None, 64)                0         \n",
      "                                                                 \n",
      " dense_413 (Dense)           (None, 1)                 65        \n",
      "                                                                 \n",
      "=================================================================\n",
      "Total params: 10,785\n",
      "Trainable params: 10,785\n",
      "Non-trainable params: 0\n",
      "_________________________________________________________________\n"
     ]
    }
   ],
   "source": [
    "multiModel = Sequential()\n",
    "multiModel.add(GRU(16, input_shape=(multiX.shape[1], multiX.shape[2])))\n",
    "multiModel.add(Dense(1))\n",
    "multiModel.compile(loss='mse', optimizer='sgd')\n",
    "\n",
    "\n",
    "# x = Input(shape=(look_back, 3))\n",
    "# attention_layer = MultiHeadAttention(num_heads=100, key_dim=2)\n",
    "# attention = attention_layer(x, x)\n",
    "# lstmed = LSTM(64, return_sequences=False)(attention)\n",
    "# dense = Dense(1)(lstmed)\n",
    "# singleModel = Model(inputs=[x], outputs=dense)\n",
    "# conv1 = Conv2D(8, kernel_size=3, activation='relu',padding='same', input_shape=(look_back, 6))(x)\n",
    "# merged = Concatenate()([x, conv1])\n",
    "# lstmed = Bidirectional(LSTM(32, return_sequences=False))(merged)\n",
    "# merged2 = Concatenate()([Flatten()(x), lstmed])\n",
    "\n",
    "# conv2 = Conv1D(32, kernel_size=3, padding='same', activation='relu')(lstmed)\n",
    "# flat = Flatten()(conv2)\n",
    "# dense = Dense(1)(lstmed)\n",
    "# singleModel = Model(inputs=[x], outputs=dense)\n",
    "\n",
    "\n",
    "singleModel = Sequential()\n",
    "singleModel.add(Input(shape=(look_back, 2)))\n",
    "# singleModel.add(MultiHeadAttention(num_heads=2, key_dim=2))\n",
    "\n",
    "singleModel.add(Bidirectional(LSTM(4, return_sequences=True)))\n",
    "singleModel.add(Bidirectional(LSTM(32, return_sequences=False)))\n",
    "\n",
    "# singleModel.add((Conv1D(128, kernel_size=5, activation='relu')))\n",
    "# # singleModel.add(Bidirectional(LSTM(32, return_sequences=True)))\n",
    "# # singleModel.add(Dropout(0.25))\n",
    "\n",
    "# # singleModel.add(Bidirectional(LSTM(32, return_sequences=True)))\n",
    "# singleModel.add((Conv1D(64, kernel_size=3, activation='relu')))\n",
    "# # singleModel.add(Bidirectional(LSTM(32, return_sequences=False)))\n",
    "# singleModel.add((Conv1D(64, kernel_size=3, activation='relu')))\n",
    "# singleModel.add((Conv1D(64, kernel_size=15, activation='relu')))\n",
    "\n",
    "# singleModel.add(Dropout(0.5))\n",
    "singleModel.add(Flatten())\n",
    "singleModel.add(Dense(1, activation='linear'))\n",
    "K.set_value(model.optimizer.learning_rate, 0.0001)\n",
    "\n",
    "singleModel.compile(optimizer='sgd', loss=custom_loss, metrics=[same_sign_index])\n",
    "\n",
    "# singleModel.add(Conv2D(64, kernel_size=3, activation='relu', data_format='channels_last'))\n",
    "# singleModel.add(Reshape((98, -1)))\n",
    "    \n",
    "    \n",
    "# singleModel.add(Bidirectional(LSTM(32, return_sequences=True)))\n",
    "# # singleModel.add(Flatten())\n",
    "# singleModel.add((Conv1D(32, kernel_size=3, activation='relu')))\n",
    "# singleModel.add(Flatten())\n",
    "# singleModel.add(Dense(1, activation='linear'))\n",
    "# # singleModel.compile(optimizer='adam', loss='mse')\n",
    "# singleModel.compile(optimizer='adam', loss='mse')\n",
    "singleModel.summary()\n"
   ]
  },
  {
   "cell_type": "code",
   "execution_count": 1328,
   "id": "79732074",
   "metadata": {},
   "outputs": [],
   "source": [
    "# Option 1\n",
    "# singleModel = Sequential()\n",
    "# singleModel.add((Conv1D(64, kernel_size=3, activation='relu', input_shape=(look_back, 2))))\n",
    "# singleModel.add(Bidirectional(LSTM(16, return_sequences=False)))\n",
    "# singleModel.add(Dense(1, activation='linear'))\n",
    "# singleModel.compile(optimizer='adam', loss='mse')\n",
    "\n",
    "# Option 2\n",
    "# singleModel = Sequential()\n",
    "# singleModel.add((Conv1D(64, kernel_size=3, activation='relu', input_shape=(look_back, 2))))\n",
    "# singleModel.add(Bidirectional(LSTM(32, return_sequences=False)))\n",
    "# singleModel.add(Dense(1, activation='linear'))\n",
    "# singleModel.compile(optimizer='adam', loss='mse')\n",
    "\n",
    "# Option 3\n",
    "# singleModel = Sequential()\n",
    "# singleModel.add((Conv1D(64, kernel_size=3, activation='relu', input_shape=(look_back, 2))))\n",
    "# singleModel.add(Bidirectional(LSTM(32, return_sequences=False)))\n",
    "# singleModel.add((Conv1D(32, kernel_size=3, activation='relu')))\n",
    "# singleModel.add(Flatten())\n",
    "# singleModel.add(Dense(1, activation='linear'))\n",
    "# singleModel.compile(optimizer='adam', loss='mse')"
   ]
  },
  {
   "cell_type": "code",
   "execution_count": 1329,
   "id": "2b8f567d",
   "metadata": {},
   "outputs": [],
   "source": [
    "\n",
    "# singleModel = Sequential()\n",
    "\n",
    "# # Creating the Neural Network model here...\n",
    "# # CNN layers\n",
    "# singleModel.add(TimeDistributed(Conv1D(64, kernel_size=3, activation='relu', input_shape=(look_back, 1))))\n",
    "# singleModel.add(TimeDistributed(MaxPooling1D(2)))\n",
    "# singleModel.add(TimeDistributed(Conv1D(128, kernel_size=3, activation='relu')))\n",
    "# singleModel.add(TimeDistributed(MaxPooling1D(2)))\n",
    "# singleModel.add(TimeDistributed(Conv1D(64, kernel_size=3, activation='relu')))\n",
    "# singleModel.add(TimeDistributed(MaxPooling1D(2)))\n",
    "# singleModel.add(TimeDistributed(Flatten()))\n",
    "# # model.add(Dense(5, kernel_regularizer=L2(0.01)))\n",
    "\n",
    "# # LSTM layers\n",
    "# singleModel.add(Bidirectional(LSTM(look_back, return_sequences=True)))\n",
    "# singleModel.add(Dropout(0.5))\n",
    "# singleModel.add(Bidirectional(LSTM(look_back, return_sequences=False)))\n",
    "# singleModel.add(Dropout(0.5))\n",
    "\n",
    "# #Final layers\n",
    "# singleModel.add(Dense(1, activation='linear'))\n",
    "# singleModel.compile(optimizer='adam', loss='mse')\n",
    "\n",
    "# # history = model.fit(train_X, train_Y, validation_data=(test_X,test_Y), epochs=40,batch_size=40, verbose=1, shuffle =True)"
   ]
  },
  {
   "cell_type": "code",
   "execution_count": 1330,
   "id": "796a73f7",
   "metadata": {
    "scrolled": true
   },
   "outputs": [
    {
     "name": "stdout",
     "output_type": "stream",
     "text": [
      "Epoch 1/40\n",
      "82/82 [==============================] - 8s 35ms/step - loss: 0.0817 - same_sign_index: 0.4571 - val_loss: 0.0085 - val_same_sign_index: 0.2891\n",
      "Epoch 2/40\n",
      "82/82 [==============================] - 2s 20ms/step - loss: 0.0066 - same_sign_index: 0.4484 - val_loss: 0.0079 - val_same_sign_index: 0.3125\n",
      "Epoch 3/40\n",
      "82/82 [==============================] - 2s 21ms/step - loss: 0.0063 - same_sign_index: 0.4491 - val_loss: 0.0080 - val_same_sign_index: 0.2969\n",
      "Epoch 4/40\n",
      "82/82 [==============================] - 2s 22ms/step - loss: 0.0062 - same_sign_index: 0.4451 - val_loss: 0.0080 - val_same_sign_index: 0.2891\n",
      "Epoch 5/40\n",
      "82/82 [==============================] - 2s 23ms/step - loss: 0.0062 - same_sign_index: 0.4449 - val_loss: 0.0077 - val_same_sign_index: 0.3047\n",
      "Epoch 6/40\n",
      "82/82 [==============================] - 2s 25ms/step - loss: 0.0061 - same_sign_index: 0.4466 - val_loss: 0.0078 - val_same_sign_index: 0.2969\n",
      "Epoch 7/40\n",
      "82/82 [==============================] - 2s 25ms/step - loss: 0.0061 - same_sign_index: 0.4446 - val_loss: 0.0077 - val_same_sign_index: 0.3047\n",
      "Epoch 8/40\n",
      "82/82 [==============================] - 2s 26ms/step - loss: 0.0061 - same_sign_index: 0.4463 - val_loss: 0.0074 - val_same_sign_index: 0.3281\n",
      "Epoch 9/40\n",
      "82/82 [==============================] - 2s 27ms/step - loss: 0.0061 - same_sign_index: 0.4453 - val_loss: 0.0073 - val_same_sign_index: 0.3438\n",
      "Epoch 10/40\n",
      "82/82 [==============================] - 2s 28ms/step - loss: 0.0061 - same_sign_index: 0.4461 - val_loss: 0.0074 - val_same_sign_index: 0.3359\n",
      "Epoch 11/40\n",
      "82/82 [==============================] - 2s 29ms/step - loss: 0.0061 - same_sign_index: 0.4436 - val_loss: 0.0074 - val_same_sign_index: 0.3359\n",
      "Epoch 12/40\n",
      "82/82 [==============================] - 3s 31ms/step - loss: 0.0061 - same_sign_index: 0.4419 - val_loss: 0.0075 - val_same_sign_index: 0.3281\n",
      "Epoch 13/40\n",
      "82/82 [==============================] - 2s 28ms/step - loss: 0.0061 - same_sign_index: 0.4442 - val_loss: 0.0075 - val_same_sign_index: 0.3281\n",
      "Epoch 14/40\n",
      "82/82 [==============================] - 2s 30ms/step - loss: 0.0061 - same_sign_index: 0.4419 - val_loss: 0.0076 - val_same_sign_index: 0.3281\n",
      "Epoch 15/40\n",
      "82/82 [==============================] - 3s 31ms/step - loss: 0.0061 - same_sign_index: 0.4411 - val_loss: 0.0076 - val_same_sign_index: 0.3281\n",
      "Epoch 16/40\n",
      "82/82 [==============================] - 3s 31ms/step - loss: 0.0061 - same_sign_index: 0.4428 - val_loss: 0.0073 - val_same_sign_index: 0.3516\n",
      "Epoch 17/40\n",
      "82/82 [==============================] - 3s 31ms/step - loss: 0.0061 - same_sign_index: 0.4436 - val_loss: 0.0076 - val_same_sign_index: 0.3359\n",
      "Epoch 18/40\n",
      "82/82 [==============================] - 2s 30ms/step - loss: 0.0062 - same_sign_index: 0.4375 - val_loss: 0.0076 - val_same_sign_index: 0.3359\n",
      "Epoch 19/40\n",
      "82/82 [==============================] - 3s 32ms/step - loss: 0.0061 - same_sign_index: 0.4432 - val_loss: 0.0076 - val_same_sign_index: 0.3281\n",
      "Epoch 20/40\n",
      "82/82 [==============================] - 3s 38ms/step - loss: 0.0061 - same_sign_index: 0.4404 - val_loss: 0.0076 - val_same_sign_index: 0.3359\n",
      "Epoch 21/40\n",
      "82/82 [==============================] - 3s 41ms/step - loss: 0.0061 - same_sign_index: 0.4425 - val_loss: 0.0075 - val_same_sign_index: 0.3359\n",
      "Epoch 22/40\n",
      "82/82 [==============================] - 3s 40ms/step - loss: 0.0062 - same_sign_index: 0.4381 - val_loss: 0.0073 - val_same_sign_index: 0.3516\n",
      "Epoch 23/40\n",
      "82/82 [==============================] - 3s 35ms/step - loss: 0.0062 - same_sign_index: 0.4390 - val_loss: 0.0075 - val_same_sign_index: 0.3359\n",
      "Epoch 24/40\n",
      "82/82 [==============================] - 3s 33ms/step - loss: 0.0061 - same_sign_index: 0.4413 - val_loss: 0.0074 - val_same_sign_index: 0.3438\n",
      "Epoch 25/40\n",
      "82/82 [==============================] - 3s 31ms/step - loss: 0.0061 - same_sign_index: 0.4407 - val_loss: 0.0073 - val_same_sign_index: 0.3516\n",
      "Epoch 26/40\n",
      "82/82 [==============================] - 3s 31ms/step - loss: 0.0061 - same_sign_index: 0.4423 - val_loss: 0.0075 - val_same_sign_index: 0.3359\n",
      "Epoch 27/40\n",
      "82/82 [==============================] - 3s 32ms/step - loss: 0.0061 - same_sign_index: 0.4426 - val_loss: 0.0075 - val_same_sign_index: 0.3359\n",
      "Epoch 28/40\n",
      "82/82 [==============================] - 3s 32ms/step - loss: 0.0062 - same_sign_index: 0.4388 - val_loss: 0.0074 - val_same_sign_index: 0.3438\n",
      "Epoch 29/40\n",
      "82/82 [==============================] - 3s 32ms/step - loss: 0.0061 - same_sign_index: 0.4432 - val_loss: 0.0073 - val_same_sign_index: 0.3438\n",
      "Epoch 30/40\n",
      "82/82 [==============================] - 3s 32ms/step - loss: 0.0062 - same_sign_index: 0.4383 - val_loss: 0.0073 - val_same_sign_index: 0.3516\n",
      "Epoch 31/40\n",
      "82/82 [==============================] - 3s 34ms/step - loss: 0.0061 - same_sign_index: 0.4411 - val_loss: 0.0074 - val_same_sign_index: 0.3438\n",
      "Epoch 32/40\n",
      "82/82 [==============================] - 3s 31ms/step - loss: 0.0061 - same_sign_index: 0.4434 - val_loss: 0.0073 - val_same_sign_index: 0.3516\n",
      "Epoch 33/40\n",
      "82/82 [==============================] - 2s 30ms/step - loss: 0.0061 - same_sign_index: 0.4425 - val_loss: 0.0074 - val_same_sign_index: 0.3438\n",
      "Epoch 34/40\n",
      "82/82 [==============================] - 2s 29ms/step - loss: 0.0061 - same_sign_index: 0.4402 - val_loss: 0.0074 - val_same_sign_index: 0.3438\n",
      "Epoch 35/40\n",
      "82/82 [==============================] - 2s 30ms/step - loss: 0.0061 - same_sign_index: 0.4402 - val_loss: 0.0074 - val_same_sign_index: 0.3438\n",
      "Epoch 36/40\n",
      "82/82 [==============================] - 2s 29ms/step - loss: 0.0061 - same_sign_index: 0.4434 - val_loss: 0.0074 - val_same_sign_index: 0.3438\n",
      "Epoch 37/40\n",
      "82/82 [==============================] - 2s 28ms/step - loss: 0.0061 - same_sign_index: 0.4425 - val_loss: 0.0074 - val_same_sign_index: 0.3438\n",
      "Epoch 38/40\n",
      "82/82 [==============================] - 2s 28ms/step - loss: 0.0061 - same_sign_index: 0.4434 - val_loss: 0.0073 - val_same_sign_index: 0.3516\n",
      "Epoch 39/40\n",
      "82/82 [==============================] - 2s 28ms/step - loss: 0.0061 - same_sign_index: 0.4417 - val_loss: 0.0073 - val_same_sign_index: 0.3516\n",
      "Epoch 40/40\n",
      "82/82 [==============================] - 2s 28ms/step - loss: 0.0061 - same_sign_index: 0.4405 - val_loss: 0.0074 - val_same_sign_index: 0.3438\n"
     ]
    }
   ],
   "source": [
    "history=singleModel.fit(singleX_train, dataY_train, validation_data=(singleX_test, dataY_test), batch_size=64, epochs=40, shuffle=True)"
   ]
  },
  {
   "cell_type": "code",
   "execution_count": 1310,
   "id": "98d69529",
   "metadata": {},
   "outputs": [
    {
     "data": {
      "text/plain": [
       "<AxesSubplot:>"
      ]
     },
     "execution_count": 1310,
     "metadata": {},
     "output_type": "execute_result"
    },
    {
     "data": {
      "image/png": "[encoded data removed]",
      "text/plain": [
       "<Figure size 432x288 with 1 Axes>"
      ]
     },
     "metadata": {
      "needs_background": "light"
     },
     "output_type": "display_data"
    }
   ],
   "source": [
    "loss_df = pd.DataFrame()\n",
    "loss_df[\"Test Loss\"] = history.history['loss']\n",
    "loss_df[\"Val Loss\"] = history.history['val_loss']\n",
    "loss_df = loss_df[:]\n",
    "loss_df.plot()"
   ]
  },
  {
   "cell_type": "code",
   "execution_count": 1308,
   "id": "ac4bdbd6",
   "metadata": {},
   "outputs": [
    {
     "data": {
      "text/plain": [
       "<AxesSubplot:>"
      ]
     },
     "execution_count": 1308,
     "metadata": {},
     "output_type": "execute_result"
    },
    {
     "data": {
      "image/png": "[encoded data removed]",
      "text/plain": [
       "<Figure size 432x288 with 1 Axes>"
      ]
     },
     "metadata": {
      "needs_background": "light"
     },
     "output_type": "display_data"
    }
   ],
   "source": [
    "sign_df = pd.DataFrame()\n",
    "sign_df[\"Test Loss\"] = history.history['same_sign_index']\n",
    "sign_df[\"Val Loss\"] = history.history['val_same_sign_index']\n",
    "\n",
    "sign_df.plot()"
   ]
  },
  {
   "cell_type": "code",
   "execution_count": 1275,
   "id": "ed520bde",
   "metadata": {},
   "outputs": [],
   "source": [
    "df_out = pd.read_csv('./processed_data.csv')\n",
    "df_out = df[look_back+101:]\n"
   ]
  },
  {
   "cell_type": "code",
   "execution_count": 1332,
   "id": "59e09a7b",
   "metadata": {},
   "outputs": [
    {
     "name": "stdout",
     "output_type": "stream",
     "text": [
      "(5286, 30, 2)\n",
      "(5286,)\n",
      "166/166 [==============================] - 7s 8ms/step\n"
     ]
    },
    {
     "name": "stderr",
     "output_type": "stream",
     "text": [
      "/var/folders/vz/wcr8_9tj1bvb6_3yp7t72tx00000gn/T/ipykernel_9723/3857750971.py:4: SettingWithCopyWarning: \n",
      "A value is trying to be set on a copy of a slice from a DataFrame.\n",
      "Try using .loc[row_indexer,col_indexer] = value instead\n",
      "\n",
      "See the caveats in the documentation: https://pandas.pydata.org/pandas-docs/stable/user_guide/indexing.html#returning-a-view-versus-a-copy\n",
      "  df_out[\"single_predict\"]=singleModel.predict(singleX)\n",
      "/var/folders/vz/wcr8_9tj1bvb6_3yp7t72tx00000gn/T/ipykernel_9723/3857750971.py:6: SettingWithCopyWarning: \n",
      "A value is trying to be set on a copy of a slice from a DataFrame.\n",
      "Try using .loc[row_indexer,col_indexer] = value instead\n",
      "\n",
      "See the caveats in the documentation: https://pandas.pydata.org/pandas-docs/stable/user_guide/indexing.html#returning-a-view-versus-a-copy\n",
      "  df_out[\"target\"] = dataY\n"
     ]
    }
   ],
   "source": [
    "print(singleX.shape)\n",
    "print(dataY.shape)\n",
    "# print(singleModel.predict(singleX).shape)\n",
    "df_out[\"single_predict\"]=singleModel.predict(singleX)\n",
    "# df_out[\"multi_predict\"]=multiModel.predict(multiX)\n",
    "df_out[\"target\"] = dataY"
   ]
  },
  {
   "cell_type": "code",
   "execution_count": 1249,
   "id": "1dd4f294",
   "metadata": {},
   "outputs": [
    {
     "data": {
      "text/plain": [
       "<AxesSubplot:>"
      ]
     },
     "execution_count": 1249,
     "metadata": {},
     "output_type": "execute_result"
    },
    {
     "data": {
      "image/png": "[encoded data removed]",
      "text/plain": [
       "<Figure size 432x288 with 1 Axes>"
      ]
     },
     "metadata": {
      "needs_background": "light"
     },
     "output_type": "display_data"
    }
   ],
   "source": [
    "df_out.plot(y=[\"target\", \"single_predict\"], grid=True)"
   ]
  },
  {
   "cell_type": "code",
   "execution_count": 1250,
   "id": "8672ad44",
   "metadata": {},
   "outputs": [
    {
     "data": {
      "text/html": [
       "<div>\n",
       "<style scoped>\n",
       "    .dataframe tbody tr th:only-of-type {\n",
       "        vertical-align: middle;\n",
       "    }\n",
       "\n",
       "    .dataframe tbody tr th {\n",
       "        vertical-align: top;\n",
       "    }\n",
       "\n",
       "    .dataframe thead th {\n",
       "        text-align: right;\n",
       "    }\n",
       "</style>\n",
       "<table border=\"1\" class=\"dataframe\">\n",
       "  <thead>\n",
       "    <tr style=\"text-align: right;\">\n",
       "      <th></th>\n",
       "      <th>Date</th>\n",
       "      <th>Open</th>\n",
       "      <th>High</th>\n",
       "      <th>Low</th>\n",
       "      <th>Close</th>\n",
       "      <th>Adj Close</th>\n",
       "      <th>Volume</th>\n",
       "      <th>timestamp</th>\n",
       "      <th>shifted_adj_close</th>\n",
       "      <th>Adj Close Returns</th>\n",
       "      <th>SMA_50</th>\n",
       "      <th>MACD_8_21_9</th>\n",
       "      <th>MACDh_8_21_9</th>\n",
       "      <th>MACDs_8_21_9</th>\n",
       "      <th>Day Delta</th>\n",
       "      <th>single_predict</th>\n",
       "      <th>target</th>\n",
       "    </tr>\n",
       "  </thead>\n",
       "  <tbody>\n",
       "    <tr>\n",
       "      <th>115</th>\n",
       "      <td>2001-05-18</td>\n",
       "      <td>1300.000000</td>\n",
       "      <td>1300.000000</td>\n",
       "      <td>1300.000000</td>\n",
       "      <td>1300.000000</td>\n",
       "      <td>1076.341797</td>\n",
       "      <td>54000</td>\n",
       "      <td>990165600</td>\n",
       "      <td>1076.341797</td>\n",
       "      <td>1.000000</td>\n",
       "      <td>1136.500004</td>\n",
       "      <td>69.027889</td>\n",
       "      <td>18.199103</td>\n",
       "      <td>50.828785</td>\n",
       "      <td>3.0</td>\n",
       "      <td>0.989112</td>\n",
       "      <td>0.993590</td>\n",
       "    </tr>\n",
       "    <tr>\n",
       "      <th>116</th>\n",
       "      <td>2001-05-21</td>\n",
       "      <td>1308.333374</td>\n",
       "      <td>1308.333374</td>\n",
       "      <td>1291.666626</td>\n",
       "      <td>1291.666626</td>\n",
       "      <td>1069.442017</td>\n",
       "      <td>48000</td>\n",
       "      <td>990424800</td>\n",
       "      <td>1076.341797</td>\n",
       "      <td>1.006452</td>\n",
       "      <td>1141.333336</td>\n",
       "      <td>66.297257</td>\n",
       "      <td>12.374777</td>\n",
       "      <td>53.922480</td>\n",
       "      <td>1.0</td>\n",
       "      <td>0.995729</td>\n",
       "      <td>1.000000</td>\n",
       "    </tr>\n",
       "    <tr>\n",
       "      <th>117</th>\n",
       "      <td>2001-05-22</td>\n",
       "      <td>1291.666626</td>\n",
       "      <td>1300.000000</td>\n",
       "      <td>1283.333374</td>\n",
       "      <td>1291.666626</td>\n",
       "      <td>1069.442017</td>\n",
       "      <td>102000</td>\n",
       "      <td>990511200</td>\n",
       "      <td>1069.442017</td>\n",
       "      <td>1.000000</td>\n",
       "      <td>1146.833335</td>\n",
       "      <td>63.027169</td>\n",
       "      <td>7.283751</td>\n",
       "      <td>55.743418</td>\n",
       "      <td>1.0</td>\n",
       "      <td>0.997119</td>\n",
       "      <td>1.006452</td>\n",
       "    </tr>\n",
       "    <tr>\n",
       "      <th>118</th>\n",
       "      <td>2001-05-23</td>\n",
       "      <td>1283.333374</td>\n",
       "      <td>1283.333374</td>\n",
       "      <td>1266.666626</td>\n",
       "      <td>1275.000000</td>\n",
       "      <td>1055.643066</td>\n",
       "      <td>126000</td>\n",
       "      <td>990597600</td>\n",
       "      <td>1069.442017</td>\n",
       "      <td>1.013072</td>\n",
       "      <td>1152.000001</td>\n",
       "      <td>57.253162</td>\n",
       "      <td>1.207796</td>\n",
       "      <td>56.045367</td>\n",
       "      <td>1.0</td>\n",
       "      <td>1.002592</td>\n",
       "      <td>1.000000</td>\n",
       "    </tr>\n",
       "    <tr>\n",
       "      <th>119</th>\n",
       "      <td>2001-05-24</td>\n",
       "      <td>1250.000000</td>\n",
       "      <td>1258.333374</td>\n",
       "      <td>983.333313</td>\n",
       "      <td>1041.666626</td>\n",
       "      <td>862.453491</td>\n",
       "      <td>1380000</td>\n",
       "      <td>990684000</td>\n",
       "      <td>1055.643066</td>\n",
       "      <td>1.224000</td>\n",
       "      <td>1152.500000</td>\n",
       "      <td>21.374166</td>\n",
       "      <td>-27.736960</td>\n",
       "      <td>49.111126</td>\n",
       "      <td>1.0</td>\n",
       "      <td>0.994680</td>\n",
       "      <td>1.013072</td>\n",
       "    </tr>\n",
       "  </tbody>\n",
       "</table>\n",
       "</div>"
      ],
      "text/plain": [
       "           Date         Open         High          Low        Close  \\\n",
       "115  2001-05-18  1300.000000  1300.000000  1300.000000  1300.000000   \n",
       "116  2001-05-21  1308.333374  1308.333374  1291.666626  1291.666626   \n",
       "117  2001-05-22  1291.666626  1300.000000  1283.333374  1291.666626   \n",
       "118  2001-05-23  1283.333374  1283.333374  1266.666626  1275.000000   \n",
       "119  2001-05-24  1250.000000  1258.333374   983.333313  1041.666626   \n",
       "\n",
       "       Adj Close   Volume  timestamp  shifted_adj_close  Adj Close Returns  \\\n",
       "115  1076.341797    54000  990165600        1076.341797           1.000000   \n",
       "116  1069.442017    48000  990424800        1076.341797           1.006452   \n",
       "117  1069.442017   102000  990511200        1069.442017           1.000000   \n",
       "118  1055.643066   126000  990597600        1069.442017           1.013072   \n",
       "119   862.453491  1380000  990684000        1055.643066           1.224000   \n",
       "\n",
       "          SMA_50  MACD_8_21_9  MACDh_8_21_9  MACDs_8_21_9  Day Delta  \\\n",
       "115  1136.500004    69.027889     18.199103     50.828785        3.0   \n",
       "116  1141.333336    66.297257     12.374777     53.922480        1.0   \n",
       "117  1146.833335    63.027169      7.283751     55.743418        1.0   \n",
       "118  1152.000001    57.253162      1.207796     56.045367        1.0   \n",
       "119  1152.500000    21.374166    -27.736960     49.111126        1.0   \n",
       "\n",
       "     single_predict    target  \n",
       "115        0.989112  0.993590  \n",
       "116        0.995729  1.000000  \n",
       "117        0.997119  1.006452  \n",
       "118        1.002592  1.000000  \n",
       "119        0.994680  1.013072  "
      ]
     },
     "execution_count": 1250,
     "metadata": {},
     "output_type": "execute_result"
    }
   ],
   "source": [
    "df_out.head()"
   ]
  },
  {
   "cell_type": "code",
   "execution_count": 1346,
   "id": "9b6b84c0",
   "metadata": {},
   "outputs": [
    {
     "name": "stdout",
     "output_type": "stream",
     "text": [
      "[1.         1.02739725 1.01565207 ... 1.0032     1.01461039        nan]\n"
     ]
    }
   ],
   "source": [
    "naive_prediction = df_out[\"target\"].shift(-1).to_numpy()\n",
    "print(naive_prediction)"
   ]
  },
  {
   "cell_type": "code",
   "execution_count": 1347,
   "id": "0299062b",
   "metadata": {},
   "outputs": [],
   "source": [
    "def sign_score(listA, listB):\n",
    "    if len(listA) != len(listB):\n",
    "        raise \"Lists must be the same length\"\n",
    "    return np.sum(np.where(listA*listB>0,1,0))/len(listA)\n",
    "# sign_score(df[\"Log Returns\"].to_numpy(), df[\"single_predict\"].to_numpy())"
   ]
  },
  {
   "cell_type": "code",
   "execution_count": 1348,
   "id": "81041505",
   "metadata": {},
   "outputs": [
    {
     "data": {
      "text/plain": [
       "0.41827468785471056"
      ]
     },
     "execution_count": 1348,
     "metadata": {},
     "output_type": "execute_result"
    }
   ],
   "source": [
    "sign_score(naive_prediction-1, df_out[\"target\"].to_numpy()-1)"
   ]
  },
  {
   "cell_type": "code",
   "execution_count": 1345,
   "id": "3531f193",
   "metadata": {},
   "outputs": [
    {
     "data": {
      "text/plain": [
       "0.49"
      ]
     },
     "execution_count": 1345,
     "metadata": {},
     "output_type": "execute_result"
    }
   ],
   "source": [
    "sign_score(df_out[\"target\"].to_numpy()[-100:]-1, df_out[\"single_predict\"].to_numpy()[-100:]-1)"
   ]
  },
  {
   "cell_type": "code",
   "execution_count": 1255,
   "id": "a46f4687",
   "metadata": {},
   "outputs": [
    {
     "data": {
      "text/plain": [
       "0.45322519803847605"
      ]
     },
     "execution_count": 1255,
     "metadata": {},
     "output_type": "execute_result"
    }
   ],
   "source": [
    "sign_score(df_out[\"target\"].to_numpy()-1, df_out[\"single_predict\"].to_numpy()-1)"
   ]
  },
  {
   "cell_type": "code",
   "execution_count": 1256,
   "id": "ac67124a",
   "metadata": {},
   "outputs": [
    {
     "data": {
      "text/plain": [
       "0.44907582044511507"
      ]
     },
     "execution_count": 1256,
     "metadata": {},
     "output_type": "execute_result"
    }
   ],
   "source": [
    "sign_score(df_out[\"target\"].to_numpy()-1, df_out[\"single_predict\"].to_numpy()+1000)"
   ]
  },
  {
   "cell_type": "code",
   "execution_count": 1157,
   "id": "4f0fe49b",
   "metadata": {},
   "outputs": [],
   "source": [
    "good = []\n",
    "bad = []\n",
    "for target, prediction in zip(df_out[\"target\"].to_numpy(), df_out[\"single_predict\"].to_numpy()):\n",
    "    if abs(prediction-1)<0.01:\n",
    "        continue\n",
    "    if (target-1) * (prediction-1) > 0:\n",
    "        good.append(prediction-1)\n",
    "    else:\n",
    "        bad.append(prediction-1)\n",
    "        "
   ]
  },
  {
   "cell_type": "code",
   "execution_count": 1158,
   "id": "4455f62a",
   "metadata": {},
   "outputs": [
    {
     "data": {
      "text/plain": [
       "(473, 598)"
      ]
     },
     "execution_count": 1158,
     "metadata": {},
     "output_type": "execute_result"
    }
   ],
   "source": [
    "len(good), len(bad)"
   ]
  },
  {
   "cell_type": "code",
   "execution_count": 1103,
   "id": "e7225334",
   "metadata": {},
   "outputs": [
    {
     "data": {
      "text/plain": [
       "0.01392182504316889"
      ]
     },
     "execution_count": 1103,
     "metadata": {},
     "output_type": "execute_result"
    }
   ],
   "source": [
    "np.mean(np.abs(np.array(good)))"
   ]
  },
  {
   "cell_type": "code",
   "execution_count": 1104,
   "id": "5db8068a",
   "metadata": {},
   "outputs": [
    {
     "data": {
      "text/plain": [
       "0.014163332195962022"
      ]
     },
     "execution_count": 1104,
     "metadata": {},
     "output_type": "execute_result"
    }
   ],
   "source": [
    "np.mean(np.abs(np.array(bad)))"
   ]
  },
  {
   "cell_type": "code",
   "execution_count": 1105,
   "id": "ce2aa8f3",
   "metadata": {},
   "outputs": [
    {
     "data": {
      "text/plain": [
       "0.45814167433302666"
      ]
     },
     "execution_count": 1105,
     "metadata": {},
     "output_type": "execute_result"
    }
   ],
   "source": [
    "len(good)/ len(good+bad)"
   ]
  },
  {
   "cell_type": "code",
   "execution_count": 834,
   "id": "e8a72d46",
   "metadata": {},
   "outputs": [
    {
     "name": "stderr",
     "output_type": "stream",
     "text": [
      "WARNING:absl:Found untraced functions such as _jit_compiled_convolution_op, _jit_compiled_convolution_op, lstm_cell_428_layer_call_fn, lstm_cell_428_layer_call_and_return_conditional_losses, lstm_cell_429_layer_call_fn while saving (showing 5 of 6). These functions will not be directly callable after loading.\n"
     ]
    },
    {
     "name": "stdout",
     "output_type": "stream",
     "text": [
      "INFO:tensorflow:Assets written to: model4_single/assets\n"
     ]
    },
    {
     "name": "stderr",
     "output_type": "stream",
     "text": [
      "INFO:tensorflow:Assets written to: model4_single/assets\n"
     ]
    }
   ],
   "source": [
    "singleModel.save(\"model4_single\")"
   ]
  },
  {
   "cell_type": "code",
   "execution_count": null,
   "id": "5ba4fd5e",
   "metadata": {},
   "outputs": [],
   "source": []
  }
 ],
 "metadata": {
  "kernelspec": {
   "display_name": "Python 3 (ipykernel)",
   "language": "python",
   "name": "python3"
  },
  "language_info": {
   "codemirror_mode": {
    "name": "ipython",
    "version": 3
   },
   "file_extension": ".py",
   "mimetype": "text/x-python",
   "name": "python",
   "nbconvert_exporter": "python",
   "pygments_lexer": "ipython3",
   "version": "3.9.13"
  }
 },
 "nbformat": 4,
 "nbformat_minor": 5
}
